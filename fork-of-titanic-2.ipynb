{
 "cells": [
  {
   "cell_type": "code",
   "execution_count": 1,
   "id": "421cda67",
   "metadata": {
    "_cell_guid": "b1076dfc-b9ad-4769-8c92-a6c4dae69d19",
    "_uuid": "8f2839f25d086af736a60e9eeb907d3b93b6e0e5",
    "execution": {
     "iopub.execute_input": "2021-07-29T09:17:20.997744Z",
     "iopub.status.busy": "2021-07-29T09:17:20.996867Z",
     "iopub.status.idle": "2021-07-29T09:17:22.533326Z",
     "shell.execute_reply": "2021-07-29T09:17:22.532412Z",
     "shell.execute_reply.started": "2021-07-29T09:15:38.541898Z"
    },
    "papermill": {
     "duration": 1.632757,
     "end_time": "2021-07-29T09:17:22.533535",
     "exception": false,
     "start_time": "2021-07-29T09:17:20.900778",
     "status": "completed"
    },
    "tags": []
   },
   "outputs": [
    {
     "name": "stdout",
     "output_type": "stream",
     "text": [
      "/kaggle/input/titanic/train.csv\n",
      "/kaggle/input/titanic/test.csv\n",
      "/kaggle/input/titanic/gender_submission.csv\n"
     ]
    }
   ],
   "source": [
    "# This Python 3 environment comes with many helpful analytics libraries installed\n",
    "# It is defined by the kaggle/python Docker image: https://github.com/kaggle/docker-python\n",
    "# For example, here's several helpful packages to load\n",
    "\n",
    "import numpy as np # linear algebra\n",
    "import pandas as pd # data processing, CSV file I/O (e.g. pd.read_csv)\n",
    "import matplotlib.pyplot as plt\n",
    "%matplotlib inline\n",
    "import seaborn as sns\n",
    "from sklearn.ensemble import RandomForestClassifier\n",
    "from sklearn.neighbors import KNeighborsClassifier\n",
    "from sklearn.tree import DecisionTreeClassifier\n",
    "\n",
    "# Input data files are available in the read-only \"../input/\" directory\n",
    "# For example, running this (by clicking run or pressing Shift+Enter) will list all files under the input directory\n",
    "\n",
    "import os\n",
    "for dirname, _, filenames in os.walk('/kaggle/input'):\n",
    "    for filename in filenames:\n",
    "        print(os.path.join(dirname, filename))\n",
    "\n",
    "# You can write up to 20GB to the current directory (/kaggle/working/) that gets preserved as output when you create a version using \"Save & Run All\" \n",
    "# You can also write temporary files to /kaggle/temp/, but they won't be saved outside of the current session"
   ]
  },
  {
   "cell_type": "markdown",
   "id": "6c0996c3",
   "metadata": {
    "papermill": {
     "duration": 0.076796,
     "end_time": "2021-07-29T09:17:22.688744",
     "exception": false,
     "start_time": "2021-07-29T09:17:22.611948",
     "status": "completed"
    },
    "tags": []
   },
   "source": [
    "#### Load the training data and the test data using Pandas"
   ]
  },
  {
   "cell_type": "code",
   "execution_count": 2,
   "id": "7ed7432a",
   "metadata": {
    "execution": {
     "iopub.execute_input": "2021-07-29T09:17:22.850252Z",
     "iopub.status.busy": "2021-07-29T09:17:22.849350Z",
     "iopub.status.idle": "2021-07-29T09:17:22.879305Z",
     "shell.execute_reply": "2021-07-29T09:17:22.878756Z",
     "shell.execute_reply.started": "2021-07-29T09:15:40.010288Z"
    },
    "papermill": {
     "duration": 0.113475,
     "end_time": "2021-07-29T09:17:22.879464",
     "exception": false,
     "start_time": "2021-07-29T09:17:22.765989",
     "status": "completed"
    },
    "tags": []
   },
   "outputs": [],
   "source": [
    "train = pd.read_csv('../input/titanic/train.csv')\n",
    "test = pd.read_csv('../input/titanic/test.csv')"
   ]
  },
  {
   "cell_type": "markdown",
   "id": "f6a62d0b",
   "metadata": {
    "papermill": {
     "duration": 0.078387,
     "end_time": "2021-07-29T09:17:23.034953",
     "exception": false,
     "start_time": "2021-07-29T09:17:22.956566",
     "status": "completed"
    },
    "tags": []
   },
   "source": [
    "### **What the Data Means**\n",
    "\n",
    "* **PassengerId:**\n",
    "* **Survived:** 0 = No, 1 = Yes\n",
    "* **Pclass;** Ticket Class: 1 = 1st, 2 = 2nd, 3 = 3rd\n",
    "* **Name:** Name of Passenger\n",
    "* **Sex:** Male or Female\n",
    "* **Age:** Age of Passenger\n",
    "* **SibSp:** Number of Spouses/Siblings on board the Ship\n",
    "* **Patch:** Number of Parents/Children on the Ship\n",
    "* **Ticket:** Ticket Number\n",
    "* **Cabin:** Cabin Number\n",
    "* **Embarked;** Where the ship was boarded: C = Cherbourg, Q = Queenstown, S = Southampton\n",
    "\n",
    "#### **Total ROWS** = 891\n",
    "#### **Total Columns** = 12\n"
   ]
  },
  {
   "cell_type": "code",
   "execution_count": 3,
   "id": "054cc579",
   "metadata": {
    "execution": {
     "iopub.execute_input": "2021-07-29T09:17:23.201825Z",
     "iopub.status.busy": "2021-07-29T09:17:23.200952Z",
     "iopub.status.idle": "2021-07-29T09:17:23.228914Z",
     "shell.execute_reply": "2021-07-29T09:17:23.229426Z",
     "shell.execute_reply.started": "2021-07-29T09:15:40.041345Z"
    },
    "papermill": {
     "duration": 0.117935,
     "end_time": "2021-07-29T09:17:23.229624",
     "exception": false,
     "start_time": "2021-07-29T09:17:23.111689",
     "status": "completed"
    },
    "tags": []
   },
   "outputs": [
    {
     "data": {
      "text/html": [
       "<div>\n",
       "<style scoped>\n",
       "    .dataframe tbody tr th:only-of-type {\n",
       "        vertical-align: middle;\n",
       "    }\n",
       "\n",
       "    .dataframe tbody tr th {\n",
       "        vertical-align: top;\n",
       "    }\n",
       "\n",
       "    .dataframe thead th {\n",
       "        text-align: right;\n",
       "    }\n",
       "</style>\n",
       "<table border=\"1\" class=\"dataframe\">\n",
       "  <thead>\n",
       "    <tr style=\"text-align: right;\">\n",
       "      <th></th>\n",
       "      <th>PassengerId</th>\n",
       "      <th>Survived</th>\n",
       "      <th>Pclass</th>\n",
       "      <th>Name</th>\n",
       "      <th>Sex</th>\n",
       "      <th>Age</th>\n",
       "      <th>SibSp</th>\n",
       "      <th>Parch</th>\n",
       "      <th>Ticket</th>\n",
       "      <th>Fare</th>\n",
       "      <th>Cabin</th>\n",
       "      <th>Embarked</th>\n",
       "    </tr>\n",
       "  </thead>\n",
       "  <tbody>\n",
       "    <tr>\n",
       "      <th>0</th>\n",
       "      <td>1</td>\n",
       "      <td>0</td>\n",
       "      <td>3</td>\n",
       "      <td>Braund, Mr. Owen Harris</td>\n",
       "      <td>male</td>\n",
       "      <td>22.0</td>\n",
       "      <td>1</td>\n",
       "      <td>0</td>\n",
       "      <td>A/5 21171</td>\n",
       "      <td>7.2500</td>\n",
       "      <td>NaN</td>\n",
       "      <td>S</td>\n",
       "    </tr>\n",
       "    <tr>\n",
       "      <th>1</th>\n",
       "      <td>2</td>\n",
       "      <td>1</td>\n",
       "      <td>1</td>\n",
       "      <td>Cumings, Mrs. John Bradley (Florence Briggs Th...</td>\n",
       "      <td>female</td>\n",
       "      <td>38.0</td>\n",
       "      <td>1</td>\n",
       "      <td>0</td>\n",
       "      <td>PC 17599</td>\n",
       "      <td>71.2833</td>\n",
       "      <td>C85</td>\n",
       "      <td>C</td>\n",
       "    </tr>\n",
       "    <tr>\n",
       "      <th>2</th>\n",
       "      <td>3</td>\n",
       "      <td>1</td>\n",
       "      <td>3</td>\n",
       "      <td>Heikkinen, Miss. Laina</td>\n",
       "      <td>female</td>\n",
       "      <td>26.0</td>\n",
       "      <td>0</td>\n",
       "      <td>0</td>\n",
       "      <td>STON/O2. 3101282</td>\n",
       "      <td>7.9250</td>\n",
       "      <td>NaN</td>\n",
       "      <td>S</td>\n",
       "    </tr>\n",
       "    <tr>\n",
       "      <th>3</th>\n",
       "      <td>4</td>\n",
       "      <td>1</td>\n",
       "      <td>1</td>\n",
       "      <td>Futrelle, Mrs. Jacques Heath (Lily May Peel)</td>\n",
       "      <td>female</td>\n",
       "      <td>35.0</td>\n",
       "      <td>1</td>\n",
       "      <td>0</td>\n",
       "      <td>113803</td>\n",
       "      <td>53.1000</td>\n",
       "      <td>C123</td>\n",
       "      <td>S</td>\n",
       "    </tr>\n",
       "    <tr>\n",
       "      <th>4</th>\n",
       "      <td>5</td>\n",
       "      <td>0</td>\n",
       "      <td>3</td>\n",
       "      <td>Allen, Mr. William Henry</td>\n",
       "      <td>male</td>\n",
       "      <td>35.0</td>\n",
       "      <td>0</td>\n",
       "      <td>0</td>\n",
       "      <td>373450</td>\n",
       "      <td>8.0500</td>\n",
       "      <td>NaN</td>\n",
       "      <td>S</td>\n",
       "    </tr>\n",
       "  </tbody>\n",
       "</table>\n",
       "</div>"
      ],
      "text/plain": [
       "   PassengerId  Survived  Pclass  \\\n",
       "0            1         0       3   \n",
       "1            2         1       1   \n",
       "2            3         1       3   \n",
       "3            4         1       1   \n",
       "4            5         0       3   \n",
       "\n",
       "                                                Name     Sex   Age  SibSp  \\\n",
       "0                            Braund, Mr. Owen Harris    male  22.0      1   \n",
       "1  Cumings, Mrs. John Bradley (Florence Briggs Th...  female  38.0      1   \n",
       "2                             Heikkinen, Miss. Laina  female  26.0      0   \n",
       "3       Futrelle, Mrs. Jacques Heath (Lily May Peel)  female  35.0      1   \n",
       "4                           Allen, Mr. William Henry    male  35.0      0   \n",
       "\n",
       "   Parch            Ticket     Fare Cabin Embarked  \n",
       "0      0         A/5 21171   7.2500   NaN        S  \n",
       "1      0          PC 17599  71.2833   C85        C  \n",
       "2      0  STON/O2. 3101282   7.9250   NaN        S  \n",
       "3      0            113803  53.1000  C123        S  \n",
       "4      0            373450   8.0500   NaN        S  "
      ]
     },
     "execution_count": 3,
     "metadata": {},
     "output_type": "execute_result"
    }
   ],
   "source": [
    "train.head()"
   ]
  },
  {
   "cell_type": "code",
   "execution_count": 4,
   "id": "59c51cae",
   "metadata": {
    "execution": {
     "iopub.execute_input": "2021-07-29T09:17:23.403453Z",
     "iopub.status.busy": "2021-07-29T09:17:23.402747Z",
     "iopub.status.idle": "2021-07-29T09:17:23.406836Z",
     "shell.execute_reply": "2021-07-29T09:17:23.406165Z",
     "shell.execute_reply.started": "2021-07-29T09:15:40.085766Z"
    },
    "papermill": {
     "duration": 0.098465,
     "end_time": "2021-07-29T09:17:23.406979",
     "exception": false,
     "start_time": "2021-07-29T09:17:23.308514",
     "status": "completed"
    },
    "tags": []
   },
   "outputs": [
    {
     "data": {
      "text/html": [
       "<div>\n",
       "<style scoped>\n",
       "    .dataframe tbody tr th:only-of-type {\n",
       "        vertical-align: middle;\n",
       "    }\n",
       "\n",
       "    .dataframe tbody tr th {\n",
       "        vertical-align: top;\n",
       "    }\n",
       "\n",
       "    .dataframe thead th {\n",
       "        text-align: right;\n",
       "    }\n",
       "</style>\n",
       "<table border=\"1\" class=\"dataframe\">\n",
       "  <thead>\n",
       "    <tr style=\"text-align: right;\">\n",
       "      <th></th>\n",
       "      <th>PassengerId</th>\n",
       "      <th>Pclass</th>\n",
       "      <th>Name</th>\n",
       "      <th>Sex</th>\n",
       "      <th>Age</th>\n",
       "      <th>SibSp</th>\n",
       "      <th>Parch</th>\n",
       "      <th>Ticket</th>\n",
       "      <th>Fare</th>\n",
       "      <th>Cabin</th>\n",
       "      <th>Embarked</th>\n",
       "    </tr>\n",
       "  </thead>\n",
       "  <tbody>\n",
       "    <tr>\n",
       "      <th>0</th>\n",
       "      <td>892</td>\n",
       "      <td>3</td>\n",
       "      <td>Kelly, Mr. James</td>\n",
       "      <td>male</td>\n",
       "      <td>34.5</td>\n",
       "      <td>0</td>\n",
       "      <td>0</td>\n",
       "      <td>330911</td>\n",
       "      <td>7.8292</td>\n",
       "      <td>NaN</td>\n",
       "      <td>Q</td>\n",
       "    </tr>\n",
       "    <tr>\n",
       "      <th>1</th>\n",
       "      <td>893</td>\n",
       "      <td>3</td>\n",
       "      <td>Wilkes, Mrs. James (Ellen Needs)</td>\n",
       "      <td>female</td>\n",
       "      <td>47.0</td>\n",
       "      <td>1</td>\n",
       "      <td>0</td>\n",
       "      <td>363272</td>\n",
       "      <td>7.0000</td>\n",
       "      <td>NaN</td>\n",
       "      <td>S</td>\n",
       "    </tr>\n",
       "    <tr>\n",
       "      <th>2</th>\n",
       "      <td>894</td>\n",
       "      <td>2</td>\n",
       "      <td>Myles, Mr. Thomas Francis</td>\n",
       "      <td>male</td>\n",
       "      <td>62.0</td>\n",
       "      <td>0</td>\n",
       "      <td>0</td>\n",
       "      <td>240276</td>\n",
       "      <td>9.6875</td>\n",
       "      <td>NaN</td>\n",
       "      <td>Q</td>\n",
       "    </tr>\n",
       "    <tr>\n",
       "      <th>3</th>\n",
       "      <td>895</td>\n",
       "      <td>3</td>\n",
       "      <td>Wirz, Mr. Albert</td>\n",
       "      <td>male</td>\n",
       "      <td>27.0</td>\n",
       "      <td>0</td>\n",
       "      <td>0</td>\n",
       "      <td>315154</td>\n",
       "      <td>8.6625</td>\n",
       "      <td>NaN</td>\n",
       "      <td>S</td>\n",
       "    </tr>\n",
       "    <tr>\n",
       "      <th>4</th>\n",
       "      <td>896</td>\n",
       "      <td>3</td>\n",
       "      <td>Hirvonen, Mrs. Alexander (Helga E Lindqvist)</td>\n",
       "      <td>female</td>\n",
       "      <td>22.0</td>\n",
       "      <td>1</td>\n",
       "      <td>1</td>\n",
       "      <td>3101298</td>\n",
       "      <td>12.2875</td>\n",
       "      <td>NaN</td>\n",
       "      <td>S</td>\n",
       "    </tr>\n",
       "  </tbody>\n",
       "</table>\n",
       "</div>"
      ],
      "text/plain": [
       "   PassengerId  Pclass                                          Name     Sex  \\\n",
       "0          892       3                              Kelly, Mr. James    male   \n",
       "1          893       3              Wilkes, Mrs. James (Ellen Needs)  female   \n",
       "2          894       2                     Myles, Mr. Thomas Francis    male   \n",
       "3          895       3                              Wirz, Mr. Albert    male   \n",
       "4          896       3  Hirvonen, Mrs. Alexander (Helga E Lindqvist)  female   \n",
       "\n",
       "    Age  SibSp  Parch   Ticket     Fare Cabin Embarked  \n",
       "0  34.5      0      0   330911   7.8292   NaN        Q  \n",
       "1  47.0      1      0   363272   7.0000   NaN        S  \n",
       "2  62.0      0      0   240276   9.6875   NaN        Q  \n",
       "3  27.0      0      0   315154   8.6625   NaN        S  \n",
       "4  22.0      1      1  3101298  12.2875   NaN        S  "
      ]
     },
     "execution_count": 4,
     "metadata": {},
     "output_type": "execute_result"
    }
   ],
   "source": [
    "test.head()"
   ]
  },
  {
   "cell_type": "code",
   "execution_count": 5,
   "id": "399afd21",
   "metadata": {
    "execution": {
     "iopub.execute_input": "2021-07-29T09:17:23.568520Z",
     "iopub.status.busy": "2021-07-29T09:17:23.567816Z",
     "iopub.status.idle": "2021-07-29T09:17:23.572185Z",
     "shell.execute_reply": "2021-07-29T09:17:23.571569Z",
     "shell.execute_reply.started": "2021-07-29T09:15:40.106260Z"
    },
    "papermill": {
     "duration": 0.087136,
     "end_time": "2021-07-29T09:17:23.572334",
     "exception": false,
     "start_time": "2021-07-29T09:17:23.485198",
     "status": "completed"
    },
    "tags": []
   },
   "outputs": [
    {
     "data": {
      "text/plain": [
       "(891, 12)"
      ]
     },
     "execution_count": 5,
     "metadata": {},
     "output_type": "execute_result"
    }
   ],
   "source": [
    "train.shape"
   ]
  },
  {
   "cell_type": "code",
   "execution_count": 6,
   "id": "8d8207f5",
   "metadata": {
    "execution": {
     "iopub.execute_input": "2021-07-29T09:17:23.735870Z",
     "iopub.status.busy": "2021-07-29T09:17:23.734980Z",
     "iopub.status.idle": "2021-07-29T09:17:23.739403Z",
     "shell.execute_reply": "2021-07-29T09:17:23.738641Z",
     "shell.execute_reply.started": "2021-07-29T09:15:40.121651Z"
    },
    "papermill": {
     "duration": 0.088344,
     "end_time": "2021-07-29T09:17:23.739607",
     "exception": false,
     "start_time": "2021-07-29T09:17:23.651263",
     "status": "completed"
    },
    "tags": []
   },
   "outputs": [
    {
     "data": {
      "text/plain": [
       "(418, 11)"
      ]
     },
     "execution_count": 6,
     "metadata": {},
     "output_type": "execute_result"
    }
   ],
   "source": [
    "test.shape"
   ]
  },
  {
   "cell_type": "code",
   "execution_count": 7,
   "id": "691c7959",
   "metadata": {
    "execution": {
     "iopub.execute_input": "2021-07-29T09:17:23.919449Z",
     "iopub.status.busy": "2021-07-29T09:17:23.917037Z",
     "iopub.status.idle": "2021-07-29T09:17:23.924259Z",
     "shell.execute_reply": "2021-07-29T09:17:23.924991Z",
     "shell.execute_reply.started": "2021-07-29T09:15:40.134434Z"
    },
    "papermill": {
     "duration": 0.106046,
     "end_time": "2021-07-29T09:17:23.925216",
     "exception": false,
     "start_time": "2021-07-29T09:17:23.819170",
     "status": "completed"
    },
    "tags": []
   },
   "outputs": [
    {
     "name": "stdout",
     "output_type": "stream",
     "text": [
      "<class 'pandas.core.frame.DataFrame'>\n",
      "RangeIndex: 891 entries, 0 to 890\n",
      "Data columns (total 12 columns):\n",
      " #   Column       Non-Null Count  Dtype  \n",
      "---  ------       --------------  -----  \n",
      " 0   PassengerId  891 non-null    int64  \n",
      " 1   Survived     891 non-null    int64  \n",
      " 2   Pclass       891 non-null    int64  \n",
      " 3   Name         891 non-null    object \n",
      " 4   Sex          891 non-null    object \n",
      " 5   Age          714 non-null    float64\n",
      " 6   SibSp        891 non-null    int64  \n",
      " 7   Parch        891 non-null    int64  \n",
      " 8   Ticket       891 non-null    object \n",
      " 9   Fare         891 non-null    float64\n",
      " 10  Cabin        204 non-null    object \n",
      " 11  Embarked     889 non-null    object \n",
      "dtypes: float64(2), int64(5), object(5)\n",
      "memory usage: 83.7+ KB\n"
     ]
    }
   ],
   "source": [
    "train.info()"
   ]
  },
  {
   "cell_type": "code",
   "execution_count": 8,
   "id": "7234d51b",
   "metadata": {
    "execution": {
     "iopub.execute_input": "2021-07-29T09:17:24.099578Z",
     "iopub.status.busy": "2021-07-29T09:17:24.098789Z",
     "iopub.status.idle": "2021-07-29T09:17:24.103687Z",
     "shell.execute_reply": "2021-07-29T09:17:24.102749Z",
     "shell.execute_reply.started": "2021-07-29T09:15:40.165634Z"
    },
    "papermill": {
     "duration": 0.098624,
     "end_time": "2021-07-29T09:17:24.103883",
     "exception": false,
     "start_time": "2021-07-29T09:17:24.005259",
     "status": "completed"
    },
    "tags": []
   },
   "outputs": [
    {
     "name": "stdout",
     "output_type": "stream",
     "text": [
      "<class 'pandas.core.frame.DataFrame'>\n",
      "RangeIndex: 418 entries, 0 to 417\n",
      "Data columns (total 11 columns):\n",
      " #   Column       Non-Null Count  Dtype  \n",
      "---  ------       --------------  -----  \n",
      " 0   PassengerId  418 non-null    int64  \n",
      " 1   Pclass       418 non-null    int64  \n",
      " 2   Name         418 non-null    object \n",
      " 3   Sex          418 non-null    object \n",
      " 4   Age          332 non-null    float64\n",
      " 5   SibSp        418 non-null    int64  \n",
      " 6   Parch        418 non-null    int64  \n",
      " 7   Ticket       418 non-null    object \n",
      " 8   Fare         417 non-null    float64\n",
      " 9   Cabin        91 non-null     object \n",
      " 10  Embarked     418 non-null    object \n",
      "dtypes: float64(2), int64(4), object(5)\n",
      "memory usage: 36.0+ KB\n"
     ]
    }
   ],
   "source": [
    "test.info()"
   ]
  },
  {
   "cell_type": "code",
   "execution_count": 9,
   "id": "960e76b2",
   "metadata": {
    "execution": {
     "iopub.execute_input": "2021-07-29T09:17:24.273854Z",
     "iopub.status.busy": "2021-07-29T09:17:24.273141Z",
     "iopub.status.idle": "2021-07-29T09:17:24.276912Z",
     "shell.execute_reply": "2021-07-29T09:17:24.277404Z",
     "shell.execute_reply.started": "2021-07-29T09:15:40.192514Z"
    },
    "papermill": {
     "duration": 0.090848,
     "end_time": "2021-07-29T09:17:24.277592",
     "exception": false,
     "start_time": "2021-07-29T09:17:24.186744",
     "status": "completed"
    },
    "tags": []
   },
   "outputs": [
    {
     "data": {
      "text/plain": [
       "PassengerId      0\n",
       "Survived         0\n",
       "Pclass           0\n",
       "Name             0\n",
       "Sex              0\n",
       "Age            177\n",
       "SibSp            0\n",
       "Parch            0\n",
       "Ticket           0\n",
       "Fare             0\n",
       "Cabin          687\n",
       "Embarked         2\n",
       "dtype: int64"
      ]
     },
     "execution_count": 9,
     "metadata": {},
     "output_type": "execute_result"
    }
   ],
   "source": [
    "train.isnull().sum()"
   ]
  },
  {
   "cell_type": "markdown",
   "id": "6876c6b1",
   "metadata": {
    "papermill": {
     "duration": 0.079345,
     "end_time": "2021-07-29T09:17:24.436918",
     "exception": false,
     "start_time": "2021-07-29T09:17:24.357573",
     "status": "completed"
    },
    "tags": []
   },
   "source": [
    "Above, there are ***177 rows*** with missing values for **Age**, there are ***687 rows*** with missing values for **Cabin** and ***2 rows*** with missing values for **Embarked**."
   ]
  },
  {
   "cell_type": "code",
   "execution_count": 10,
   "id": "f3ab384c",
   "metadata": {
    "execution": {
     "iopub.execute_input": "2021-07-29T09:17:24.599675Z",
     "iopub.status.busy": "2021-07-29T09:17:24.599006Z",
     "iopub.status.idle": "2021-07-29T09:17:24.606449Z",
     "shell.execute_reply": "2021-07-29T09:17:24.607001Z",
     "shell.execute_reply.started": "2021-07-29T09:15:40.205212Z"
    },
    "papermill": {
     "duration": 0.090836,
     "end_time": "2021-07-29T09:17:24.607173",
     "exception": false,
     "start_time": "2021-07-29T09:17:24.516337",
     "status": "completed"
    },
    "tags": []
   },
   "outputs": [
    {
     "data": {
      "text/plain": [
       "PassengerId      0\n",
       "Pclass           0\n",
       "Name             0\n",
       "Sex              0\n",
       "Age             86\n",
       "SibSp            0\n",
       "Parch            0\n",
       "Ticket           0\n",
       "Fare             1\n",
       "Cabin          327\n",
       "Embarked         0\n",
       "dtype: int64"
      ]
     },
     "execution_count": 10,
     "metadata": {},
     "output_type": "execute_result"
    }
   ],
   "source": [
    "test.isnull().sum()"
   ]
  },
  {
   "cell_type": "markdown",
   "id": "3135ef86",
   "metadata": {
    "papermill": {
     "duration": 0.080935,
     "end_time": "2021-07-29T09:17:24.768751",
     "exception": false,
     "start_time": "2021-07-29T09:17:24.687816",
     "status": "completed"
    },
    "tags": []
   },
   "source": [
    "Above, there are ***86 rows*** with missing values for **Age**, there are ***1 row*** with missing value for **Fare** and ***327 rows*** with missing values for **Cabin**."
   ]
  },
  {
   "cell_type": "markdown",
   "id": "d9f15be7",
   "metadata": {
    "papermill": {
     "duration": 0.079263,
     "end_time": "2021-07-29T09:17:24.928439",
     "exception": false,
     "start_time": "2021-07-29T09:17:24.849176",
     "status": "completed"
    },
    "tags": []
   },
   "source": [
    "## Visualization"
   ]
  },
  {
   "cell_type": "markdown",
   "id": "e83d7be6",
   "metadata": {
    "papermill": {
     "duration": 0.079398,
     "end_time": "2021-07-29T09:17:25.088606",
     "exception": false,
     "start_time": "2021-07-29T09:17:25.009208",
     "status": "completed"
    },
    "tags": []
   },
   "source": [
    "The sns is a call of Seaborn that has been imported above. It has been set to default for plots"
   ]
  },
  {
   "cell_type": "code",
   "execution_count": 11,
   "id": "b27aa758",
   "metadata": {
    "execution": {
     "iopub.execute_input": "2021-07-29T09:17:25.254066Z",
     "iopub.status.busy": "2021-07-29T09:17:25.253394Z",
     "iopub.status.idle": "2021-07-29T09:17:25.257549Z",
     "shell.execute_reply": "2021-07-29T09:17:25.258006Z",
     "shell.execute_reply.started": "2021-07-29T09:15:40.220950Z"
    },
    "papermill": {
     "duration": 0.088139,
     "end_time": "2021-07-29T09:17:25.258176",
     "exception": false,
     "start_time": "2021-07-29T09:17:25.170037",
     "status": "completed"
    },
    "tags": []
   },
   "outputs": [],
   "source": [
    "sns.set()"
   ]
  },
  {
   "cell_type": "markdown",
   "id": "0ed0a518",
   "metadata": {
    "papermill": {
     "duration": 0.080167,
     "end_time": "2021-07-29T09:17:25.419821",
     "exception": false,
     "start_time": "2021-07-29T09:17:25.339654",
     "status": "completed"
    },
    "tags": []
   },
   "source": [
    "### Bar chart for Categorical Features\n",
    "* Pclass\n",
    "* Sex\n",
    "* SibSp\n",
    "* Parch\n",
    "* Embarked\n",
    "* Cabin"
   ]
  },
  {
   "cell_type": "code",
   "execution_count": 12,
   "id": "cb464417",
   "metadata": {
    "execution": {
     "iopub.execute_input": "2021-07-29T09:17:25.587185Z",
     "iopub.status.busy": "2021-07-29T09:17:25.586438Z",
     "iopub.status.idle": "2021-07-29T09:17:25.591939Z",
     "shell.execute_reply": "2021-07-29T09:17:25.592446Z",
     "shell.execute_reply.started": "2021-07-29T09:15:40.232731Z"
    },
    "papermill": {
     "duration": 0.091341,
     "end_time": "2021-07-29T09:17:25.592690",
     "exception": false,
     "start_time": "2021-07-29T09:17:25.501349",
     "status": "completed"
    },
    "tags": []
   },
   "outputs": [],
   "source": [
    "def bar_chart(feature):\n",
    "    survived = train[train['Survived']==1][feature].value_counts()\n",
    "    died = train[train['Survived']==0][feature].value_counts()\n",
    "    df = pd.DataFrame([survived, died])\n",
    "    df.index = ['Survived','Dead']\n",
    "    df.plot(kind='bar', stacked=False, figsize=(10,5))"
   ]
  },
  {
   "cell_type": "code",
   "execution_count": 13,
   "id": "3b2ceb15",
   "metadata": {
    "execution": {
     "iopub.execute_input": "2021-07-29T09:17:25.757077Z",
     "iopub.status.busy": "2021-07-29T09:17:25.756369Z",
     "iopub.status.idle": "2021-07-29T09:17:26.015010Z",
     "shell.execute_reply": "2021-07-29T09:17:26.014270Z",
     "shell.execute_reply.started": "2021-07-29T09:15:40.245020Z"
    },
    "papermill": {
     "duration": 0.342716,
     "end_time": "2021-07-29T09:17:26.015163",
     "exception": false,
     "start_time": "2021-07-29T09:17:25.672447",
     "status": "completed"
    },
    "tags": []
   },
   "outputs": [
    {
     "data": {
      "image/png": "[encoded data removed]",
      "text/plain": [
       "<Figure size 720x360 with 1 Axes>"
      ]
     },
     "metadata": {},
     "output_type": "display_data"
    }
   ],
   "source": [
    "bar_chart('Sex')"
   ]
  },
  {
   "cell_type": "markdown",
   "id": "6f343e18",
   "metadata": {
    "papermill": {
     "duration": 0.084764,
     "end_time": "2021-07-29T09:17:26.182019",
     "exception": false,
     "start_time": "2021-07-29T09:17:26.097255",
     "status": "completed"
    },
    "tags": []
   },
   "source": [
    "* From the bar chart, it is shown that Female survived more than the male"
   ]
  },
  {
   "cell_type": "code",
   "execution_count": 14,
   "id": "c07d1fa5",
   "metadata": {
    "execution": {
     "iopub.execute_input": "2021-07-29T09:17:26.381836Z",
     "iopub.status.busy": "2021-07-29T09:17:26.354004Z",
     "iopub.status.idle": "2021-07-29T09:17:26.569674Z",
     "shell.execute_reply": "2021-07-29T09:17:26.570175Z",
     "shell.execute_reply.started": "2021-07-29T09:15:40.538107Z"
    },
    "papermill": {
     "duration": 0.305078,
     "end_time": "2021-07-29T09:17:26.570355",
     "exception": false,
     "start_time": "2021-07-29T09:17:26.265277",
     "status": "completed"
    },
    "tags": []
   },
   "outputs": [
    {
     "data": {
      "image/png": "[encoded data removed]",
      "text/plain": [
       "<Figure size 720x360 with 1 Axes>"
      ]
     },
     "metadata": {},
     "output_type": "display_data"
    }
   ],
   "source": [
    "bar_chart('Pclass')"
   ]
  },
  {
   "cell_type": "markdown",
   "id": "c7c288d5",
   "metadata": {
    "papermill": {
     "duration": 0.082409,
     "end_time": "2021-07-29T09:17:26.735247",
     "exception": false,
     "start_time": "2021-07-29T09:17:26.652838",
     "status": "completed"
    },
    "tags": []
   },
   "source": [
    "* From the chart above, The 1st class survived more than the 2nd and 3rd class\n",
    "* while the 3rd class died more than other classes even when it showed that they survived more than the 2nd class."
   ]
  },
  {
   "cell_type": "code",
   "execution_count": 15,
   "id": "59b34187",
   "metadata": {
    "execution": {
     "iopub.execute_input": "2021-07-29T09:17:26.901872Z",
     "iopub.status.busy": "2021-07-29T09:17:26.900992Z",
     "iopub.status.idle": "2021-07-29T09:17:27.176468Z",
     "shell.execute_reply": "2021-07-29T09:17:27.177071Z",
     "shell.execute_reply.started": "2021-07-29T09:15:40.779744Z"
    },
    "papermill": {
     "duration": 0.360446,
     "end_time": "2021-07-29T09:17:27.177258",
     "exception": false,
     "start_time": "2021-07-29T09:17:26.816812",
     "status": "completed"
    },
    "tags": []
   },
   "outputs": [
    {
     "data": {
      "image/png": "[encoded data removed]",
      "text/plain": [
       "<Figure size 720x360 with 1 Axes>"
      ]
     },
     "metadata": {},
     "output_type": "display_data"
    }
   ],
   "source": [
    "bar_chart('SibSp')"
   ]
  },
  {
   "cell_type": "markdown",
   "id": "8494d51b",
   "metadata": {
    "papermill": {
     "duration": 0.081915,
     "end_time": "2021-07-29T09:17:27.343860",
     "exception": false,
     "start_time": "2021-07-29T09:17:27.261945",
     "status": "completed"
    },
    "tags": []
   },
   "source": [
    "* This shows that a person that boards with more than 2 siblings or spouse will more likely survive\n",
    "\n",
    "* A person that boards alone will more likely die."
   ]
  },
  {
   "cell_type": "code",
   "execution_count": 16,
   "id": "0369e34f",
   "metadata": {
    "execution": {
     "iopub.execute_input": "2021-07-29T09:17:27.512746Z",
     "iopub.status.busy": "2021-07-29T09:17:27.512059Z",
     "iopub.status.idle": "2021-07-29T09:17:27.873197Z",
     "shell.execute_reply": "2021-07-29T09:17:27.873740Z",
     "shell.execute_reply.started": "2021-07-29T09:15:41.193189Z"
    },
    "papermill": {
     "duration": 0.446895,
     "end_time": "2021-07-29T09:17:27.873932",
     "exception": false,
     "start_time": "2021-07-29T09:17:27.427037",
     "status": "completed"
    },
    "tags": []
   },
   "outputs": [
    {
     "data": {
      "image/png": "[encoded data removed]",
      "text/plain": [
       "<Figure size 720x360 with 1 Axes>"
      ]
     },
     "metadata": {},
     "output_type": "display_data"
    }
   ],
   "source": [
    "bar_chart('Parch')"
   ]
  },
  {
   "cell_type": "markdown",
   "id": "581bb5b3",
   "metadata": {
    "papermill": {
     "duration": 0.083286,
     "end_time": "2021-07-29T09:17:28.040446",
     "exception": false,
     "start_time": "2021-07-29T09:17:27.957160",
     "status": "completed"
    },
    "tags": []
   },
   "source": [
    "* This shows that a person that boards with more than 2 prents or children will more likely survive\n",
    "\n",
    "* A person that boards alone will more likely die."
   ]
  },
  {
   "cell_type": "code",
   "execution_count": 17,
   "id": "5161af85",
   "metadata": {
    "execution": {
     "iopub.execute_input": "2021-07-29T09:17:28.216997Z",
     "iopub.status.busy": "2021-07-29T09:17:28.216306Z",
     "iopub.status.idle": "2021-07-29T09:17:28.434053Z",
     "shell.execute_reply": "2021-07-29T09:17:28.433299Z",
     "shell.execute_reply.started": "2021-07-29T09:15:41.496678Z"
    },
    "papermill": {
     "duration": 0.310029,
     "end_time": "2021-07-29T09:17:28.434215",
     "exception": false,
     "start_time": "2021-07-29T09:17:28.124186",
     "status": "completed"
    },
    "tags": []
   },
   "outputs": [
    {
     "data": {
      "image/png": "[encoded data removed]",
      "text/plain": [
       "<Figure size 720x360 with 1 Axes>"
      ]
     },
     "metadata": {},
     "output_type": "display_data"
    }
   ],
   "source": [
    "bar_chart('Embarked')"
   ]
  },
  {
   "cell_type": "markdown",
   "id": "32cf3dc8",
   "metadata": {
    "papermill": {
     "duration": 0.083184,
     "end_time": "2021-07-29T09:17:28.601690",
     "exception": false,
     "start_time": "2021-07-29T09:17:28.518506",
     "status": "completed"
    },
    "tags": []
   },
   "source": [
    "* This shows that a person that boards from Cherboug (C)\n",
    "\n",
    "* A person that boards from Queenstown (Q) or Southampton (S) will more likely die."
   ]
  },
  {
   "cell_type": "markdown",
   "id": "66cd171f",
   "metadata": {
    "papermill": {
     "duration": 0.092716,
     "end_time": "2021-07-29T09:17:28.780558",
     "exception": false,
     "start_time": "2021-07-29T09:17:28.687842",
     "status": "completed"
    },
    "tags": []
   },
   "source": [
    "## Training Data"
   ]
  },
  {
   "cell_type": "markdown",
   "id": "063c233d",
   "metadata": {
    "papermill": {
     "duration": 0.08494,
     "end_time": "2021-07-29T09:17:28.953917",
     "exception": false,
     "start_time": "2021-07-29T09:17:28.868977",
     "status": "completed"
    },
    "tags": []
   },
   "source": [
    "### 1. Title"
   ]
  },
  {
   "cell_type": "code",
   "execution_count": 18,
   "id": "d8ca3a52",
   "metadata": {
    "execution": {
     "iopub.execute_input": "2021-07-29T09:17:29.141265Z",
     "iopub.status.busy": "2021-07-29T09:17:29.140455Z",
     "iopub.status.idle": "2021-07-29T09:17:29.145045Z",
     "shell.execute_reply": "2021-07-29T09:17:29.144535Z",
     "shell.execute_reply.started": "2021-07-29T09:15:41.782900Z"
    },
    "papermill": {
     "duration": 0.107632,
     "end_time": "2021-07-29T09:17:29.145189",
     "exception": false,
     "start_time": "2021-07-29T09:17:29.037557",
     "status": "completed"
    },
    "tags": []
   },
   "outputs": [
    {
     "data": {
      "text/html": [
       "<div>\n",
       "<style scoped>\n",
       "    .dataframe tbody tr th:only-of-type {\n",
       "        vertical-align: middle;\n",
       "    }\n",
       "\n",
       "    .dataframe tbody tr th {\n",
       "        vertical-align: top;\n",
       "    }\n",
       "\n",
       "    .dataframe thead th {\n",
       "        text-align: right;\n",
       "    }\n",
       "</style>\n",
       "<table border=\"1\" class=\"dataframe\">\n",
       "  <thead>\n",
       "    <tr style=\"text-align: right;\">\n",
       "      <th></th>\n",
       "      <th>PassengerId</th>\n",
       "      <th>Survived</th>\n",
       "      <th>Pclass</th>\n",
       "      <th>Name</th>\n",
       "      <th>Sex</th>\n",
       "      <th>Age</th>\n",
       "      <th>SibSp</th>\n",
       "      <th>Parch</th>\n",
       "      <th>Ticket</th>\n",
       "      <th>Fare</th>\n",
       "      <th>Cabin</th>\n",
       "      <th>Embarked</th>\n",
       "    </tr>\n",
       "  </thead>\n",
       "  <tbody>\n",
       "    <tr>\n",
       "      <th>0</th>\n",
       "      <td>1</td>\n",
       "      <td>0</td>\n",
       "      <td>3</td>\n",
       "      <td>Braund, Mr. Owen Harris</td>\n",
       "      <td>male</td>\n",
       "      <td>22.0</td>\n",
       "      <td>1</td>\n",
       "      <td>0</td>\n",
       "      <td>A/5 21171</td>\n",
       "      <td>7.2500</td>\n",
       "      <td>NaN</td>\n",
       "      <td>S</td>\n",
       "    </tr>\n",
       "    <tr>\n",
       "      <th>1</th>\n",
       "      <td>2</td>\n",
       "      <td>1</td>\n",
       "      <td>1</td>\n",
       "      <td>Cumings, Mrs. John Bradley (Florence Briggs Th...</td>\n",
       "      <td>female</td>\n",
       "      <td>38.0</td>\n",
       "      <td>1</td>\n",
       "      <td>0</td>\n",
       "      <td>PC 17599</td>\n",
       "      <td>71.2833</td>\n",
       "      <td>C85</td>\n",
       "      <td>C</td>\n",
       "    </tr>\n",
       "    <tr>\n",
       "      <th>2</th>\n",
       "      <td>3</td>\n",
       "      <td>1</td>\n",
       "      <td>3</td>\n",
       "      <td>Heikkinen, Miss. Laina</td>\n",
       "      <td>female</td>\n",
       "      <td>26.0</td>\n",
       "      <td>0</td>\n",
       "      <td>0</td>\n",
       "      <td>STON/O2. 3101282</td>\n",
       "      <td>7.9250</td>\n",
       "      <td>NaN</td>\n",
       "      <td>S</td>\n",
       "    </tr>\n",
       "    <tr>\n",
       "      <th>3</th>\n",
       "      <td>4</td>\n",
       "      <td>1</td>\n",
       "      <td>1</td>\n",
       "      <td>Futrelle, Mrs. Jacques Heath (Lily May Peel)</td>\n",
       "      <td>female</td>\n",
       "      <td>35.0</td>\n",
       "      <td>1</td>\n",
       "      <td>0</td>\n",
       "      <td>113803</td>\n",
       "      <td>53.1000</td>\n",
       "      <td>C123</td>\n",
       "      <td>S</td>\n",
       "    </tr>\n",
       "    <tr>\n",
       "      <th>4</th>\n",
       "      <td>5</td>\n",
       "      <td>0</td>\n",
       "      <td>3</td>\n",
       "      <td>Allen, Mr. William Henry</td>\n",
       "      <td>male</td>\n",
       "      <td>35.0</td>\n",
       "      <td>0</td>\n",
       "      <td>0</td>\n",
       "      <td>373450</td>\n",
       "      <td>8.0500</td>\n",
       "      <td>NaN</td>\n",
       "      <td>S</td>\n",
       "    </tr>\n",
       "    <tr>\n",
       "      <th>5</th>\n",
       "      <td>6</td>\n",
       "      <td>0</td>\n",
       "      <td>3</td>\n",
       "      <td>Moran, Mr. James</td>\n",
       "      <td>male</td>\n",
       "      <td>NaN</td>\n",
       "      <td>0</td>\n",
       "      <td>0</td>\n",
       "      <td>330877</td>\n",
       "      <td>8.4583</td>\n",
       "      <td>NaN</td>\n",
       "      <td>Q</td>\n",
       "    </tr>\n",
       "    <tr>\n",
       "      <th>6</th>\n",
       "      <td>7</td>\n",
       "      <td>0</td>\n",
       "      <td>1</td>\n",
       "      <td>McCarthy, Mr. Timothy J</td>\n",
       "      <td>male</td>\n",
       "      <td>54.0</td>\n",
       "      <td>0</td>\n",
       "      <td>0</td>\n",
       "      <td>17463</td>\n",
       "      <td>51.8625</td>\n",
       "      <td>E46</td>\n",
       "      <td>S</td>\n",
       "    </tr>\n",
       "    <tr>\n",
       "      <th>7</th>\n",
       "      <td>8</td>\n",
       "      <td>0</td>\n",
       "      <td>3</td>\n",
       "      <td>Palsson, Master. Gosta Leonard</td>\n",
       "      <td>male</td>\n",
       "      <td>2.0</td>\n",
       "      <td>3</td>\n",
       "      <td>1</td>\n",
       "      <td>349909</td>\n",
       "      <td>21.0750</td>\n",
       "      <td>NaN</td>\n",
       "      <td>S</td>\n",
       "    </tr>\n",
       "    <tr>\n",
       "      <th>8</th>\n",
       "      <td>9</td>\n",
       "      <td>1</td>\n",
       "      <td>3</td>\n",
       "      <td>Johnson, Mrs. Oscar W (Elisabeth Vilhelmina Berg)</td>\n",
       "      <td>female</td>\n",
       "      <td>27.0</td>\n",
       "      <td>0</td>\n",
       "      <td>2</td>\n",
       "      <td>347742</td>\n",
       "      <td>11.1333</td>\n",
       "      <td>NaN</td>\n",
       "      <td>S</td>\n",
       "    </tr>\n",
       "    <tr>\n",
       "      <th>9</th>\n",
       "      <td>10</td>\n",
       "      <td>1</td>\n",
       "      <td>2</td>\n",
       "      <td>Nasser, Mrs. Nicholas (Adele Achem)</td>\n",
       "      <td>female</td>\n",
       "      <td>14.0</td>\n",
       "      <td>1</td>\n",
       "      <td>0</td>\n",
       "      <td>237736</td>\n",
       "      <td>30.0708</td>\n",
       "      <td>NaN</td>\n",
       "      <td>C</td>\n",
       "    </tr>\n",
       "  </tbody>\n",
       "</table>\n",
       "</div>"
      ],
      "text/plain": [
       "   PassengerId  Survived  Pclass  \\\n",
       "0            1         0       3   \n",
       "1            2         1       1   \n",
       "2            3         1       3   \n",
       "3            4         1       1   \n",
       "4            5         0       3   \n",
       "5            6         0       3   \n",
       "6            7         0       1   \n",
       "7            8         0       3   \n",
       "8            9         1       3   \n",
       "9           10         1       2   \n",
       "\n",
       "                                                Name     Sex   Age  SibSp  \\\n",
       "0                            Braund, Mr. Owen Harris    male  22.0      1   \n",
       "1  Cumings, Mrs. John Bradley (Florence Briggs Th...  female  38.0      1   \n",
       "2                             Heikkinen, Miss. Laina  female  26.0      0   \n",
       "3       Futrelle, Mrs. Jacques Heath (Lily May Peel)  female  35.0      1   \n",
       "4                           Allen, Mr. William Henry    male  35.0      0   \n",
       "5                                   Moran, Mr. James    male   NaN      0   \n",
       "6                            McCarthy, Mr. Timothy J    male  54.0      0   \n",
       "7                     Palsson, Master. Gosta Leonard    male   2.0      3   \n",
       "8  Johnson, Mrs. Oscar W (Elisabeth Vilhelmina Berg)  female  27.0      0   \n",
       "9                Nasser, Mrs. Nicholas (Adele Achem)  female  14.0      1   \n",
       "\n",
       "   Parch            Ticket     Fare Cabin Embarked  \n",
       "0      0         A/5 21171   7.2500   NaN        S  \n",
       "1      0          PC 17599  71.2833   C85        C  \n",
       "2      0  STON/O2. 3101282   7.9250   NaN        S  \n",
       "3      0            113803  53.1000  C123        S  \n",
       "4      0            373450   8.0500   NaN        S  \n",
       "5      0            330877   8.4583   NaN        Q  \n",
       "6      0             17463  51.8625   E46        S  \n",
       "7      1            349909  21.0750   NaN        S  \n",
       "8      2            347742  11.1333   NaN        S  \n",
       "9      0            237736  30.0708   NaN        C  "
      ]
     },
     "execution_count": 18,
     "metadata": {},
     "output_type": "execute_result"
    }
   ],
   "source": [
    "train.head(10)"
   ]
  },
  {
   "cell_type": "code",
   "execution_count": 19,
   "id": "e4786c19",
   "metadata": {
    "execution": {
     "iopub.execute_input": "2021-07-29T09:17:29.387789Z",
     "iopub.status.busy": "2021-07-29T09:17:29.386901Z",
     "iopub.status.idle": "2021-07-29T09:17:29.390125Z",
     "shell.execute_reply": "2021-07-29T09:17:29.389426Z",
     "shell.execute_reply.started": "2021-07-29T09:15:41.815488Z"
    },
    "papermill": {
     "duration": 0.155255,
     "end_time": "2021-07-29T09:17:29.390269",
     "exception": false,
     "start_time": "2021-07-29T09:17:29.235014",
     "status": "completed"
    },
    "tags": []
   },
   "outputs": [],
   "source": [
    "train_test_data = [train, test]\n",
    "\n",
    "for data in train_test_data:\n",
    "    data['Title'] = data['Name'].str.extract(' ([A-Za-z]+)\\.', expand=False)"
   ]
  },
  {
   "cell_type": "code",
   "execution_count": 20,
   "id": "e4e35dec",
   "metadata": {
    "execution": {
     "iopub.execute_input": "2021-07-29T09:17:29.567616Z",
     "iopub.status.busy": "2021-07-29T09:17:29.566633Z",
     "iopub.status.idle": "2021-07-29T09:17:29.571241Z",
     "shell.execute_reply": "2021-07-29T09:17:29.570700Z",
     "shell.execute_reply.started": "2021-07-29T09:15:41.834259Z"
    },
    "papermill": {
     "duration": 0.096451,
     "end_time": "2021-07-29T09:17:29.571382",
     "exception": false,
     "start_time": "2021-07-29T09:17:29.474931",
     "status": "completed"
    },
    "tags": []
   },
   "outputs": [
    {
     "data": {
      "text/plain": [
       "Mr        240\n",
       "Miss       78\n",
       "Mrs        72\n",
       "Master     21\n",
       "Col         2\n",
       "Rev         2\n",
       "Dr          1\n",
       "Dona        1\n",
       "Ms          1\n",
       "Name: Title, dtype: int64"
      ]
     },
     "execution_count": 20,
     "metadata": {},
     "output_type": "execute_result"
    }
   ],
   "source": [
    "test['Title'].value_counts()"
   ]
  },
  {
   "cell_type": "code",
   "execution_count": 21,
   "id": "b42e7746",
   "metadata": {
    "execution": {
     "iopub.execute_input": "2021-07-29T09:17:29.756084Z",
     "iopub.status.busy": "2021-07-29T09:17:29.755195Z",
     "iopub.status.idle": "2021-07-29T09:17:29.760196Z",
     "shell.execute_reply": "2021-07-29T09:17:29.759558Z",
     "shell.execute_reply.started": "2021-07-29T09:15:41.851565Z"
    },
    "papermill": {
     "duration": 0.098912,
     "end_time": "2021-07-29T09:17:29.760338",
     "exception": false,
     "start_time": "2021-07-29T09:17:29.661426",
     "status": "completed"
    },
    "tags": []
   },
   "outputs": [
    {
     "data": {
      "text/plain": [
       "Mr          517\n",
       "Miss        182\n",
       "Mrs         125\n",
       "Master       40\n",
       "Dr            7\n",
       "Rev           6\n",
       "Col           2\n",
       "Mlle          2\n",
       "Major         2\n",
       "Mme           1\n",
       "Sir           1\n",
       "Countess      1\n",
       "Capt          1\n",
       "Ms            1\n",
       "Lady          1\n",
       "Jonkheer      1\n",
       "Don           1\n",
       "Name: Title, dtype: int64"
      ]
     },
     "execution_count": 21,
     "metadata": {},
     "output_type": "execute_result"
    }
   ],
   "source": [
    "train['Title'].value_counts()"
   ]
  },
  {
   "cell_type": "markdown",
   "id": "55234dd5",
   "metadata": {
    "papermill": {
     "duration": 0.085295,
     "end_time": "2021-07-29T09:17:29.933057",
     "exception": false,
     "start_time": "2021-07-29T09:17:29.847762",
     "status": "completed"
    },
    "tags": []
   },
   "source": [
    "Change title mapping to 4 identities:\n",
    "* Mr = 0\n",
    "* Miss = 1\n",
    "* Mrs = 2\n",
    "* Others = 3"
   ]
  },
  {
   "cell_type": "code",
   "execution_count": 22,
   "id": "6e53862c",
   "metadata": {
    "execution": {
     "iopub.execute_input": "2021-07-29T09:17:30.116535Z",
     "iopub.status.busy": "2021-07-29T09:17:30.115457Z",
     "iopub.status.idle": "2021-07-29T09:17:30.118861Z",
     "shell.execute_reply": "2021-07-29T09:17:30.118300Z",
     "shell.execute_reply.started": "2021-07-29T09:15:41.867063Z"
    },
    "papermill": {
     "duration": 0.099999,
     "end_time": "2021-07-29T09:17:30.119010",
     "exception": false,
     "start_time": "2021-07-29T09:17:30.019011",
     "status": "completed"
    },
    "tags": []
   },
   "outputs": [],
   "source": [
    "title_mapping = {'Mr':0, 'Miss':1, 'Mrs':2, 'Master':3, 'Dr':3, 'Col':3, 'Rev':3, 'Ms':3, 'Dona':3, 'Major':3, 'Mlle':3, 'Countess':3, 'Lady':3, 'Jonkheer':3, 'Don':3, 'Mme':3, 'Capt':3, 'Sir':3}\n",
    "\n",
    "for data in train_test_data:\n",
    "    data['Title'] = data['Title'].map(title_mapping)\n"
   ]
  },
  {
   "cell_type": "code",
   "execution_count": 23,
   "id": "046a1cdb",
   "metadata": {
    "execution": {
     "iopub.execute_input": "2021-07-29T09:17:30.313404Z",
     "iopub.status.busy": "2021-07-29T09:17:30.312304Z",
     "iopub.status.idle": "2021-07-29T09:17:30.317218Z",
     "shell.execute_reply": "2021-07-29T09:17:30.316539Z",
     "shell.execute_reply.started": "2021-07-29T09:15:41.888631Z"
    },
    "papermill": {
     "duration": 0.110041,
     "end_time": "2021-07-29T09:17:30.317376",
     "exception": false,
     "start_time": "2021-07-29T09:17:30.207335",
     "status": "completed"
    },
    "tags": []
   },
   "outputs": [
    {
     "data": {
      "text/html": [
       "<div>\n",
       "<style scoped>\n",
       "    .dataframe tbody tr th:only-of-type {\n",
       "        vertical-align: middle;\n",
       "    }\n",
       "\n",
       "    .dataframe tbody tr th {\n",
       "        vertical-align: top;\n",
       "    }\n",
       "\n",
       "    .dataframe thead th {\n",
       "        text-align: right;\n",
       "    }\n",
       "</style>\n",
       "<table border=\"1\" class=\"dataframe\">\n",
       "  <thead>\n",
       "    <tr style=\"text-align: right;\">\n",
       "      <th></th>\n",
       "      <th>PassengerId</th>\n",
       "      <th>Survived</th>\n",
       "      <th>Pclass</th>\n",
       "      <th>Name</th>\n",
       "      <th>Sex</th>\n",
       "      <th>Age</th>\n",
       "      <th>SibSp</th>\n",
       "      <th>Parch</th>\n",
       "      <th>Ticket</th>\n",
       "      <th>Fare</th>\n",
       "      <th>Cabin</th>\n",
       "      <th>Embarked</th>\n",
       "      <th>Title</th>\n",
       "    </tr>\n",
       "  </thead>\n",
       "  <tbody>\n",
       "    <tr>\n",
       "      <th>0</th>\n",
       "      <td>1</td>\n",
       "      <td>0</td>\n",
       "      <td>3</td>\n",
       "      <td>Braund, Mr. Owen Harris</td>\n",
       "      <td>male</td>\n",
       "      <td>22.0</td>\n",
       "      <td>1</td>\n",
       "      <td>0</td>\n",
       "      <td>A/5 21171</td>\n",
       "      <td>7.2500</td>\n",
       "      <td>NaN</td>\n",
       "      <td>S</td>\n",
       "      <td>0</td>\n",
       "    </tr>\n",
       "    <tr>\n",
       "      <th>1</th>\n",
       "      <td>2</td>\n",
       "      <td>1</td>\n",
       "      <td>1</td>\n",
       "      <td>Cumings, Mrs. John Bradley (Florence Briggs Th...</td>\n",
       "      <td>female</td>\n",
       "      <td>38.0</td>\n",
       "      <td>1</td>\n",
       "      <td>0</td>\n",
       "      <td>PC 17599</td>\n",
       "      <td>71.2833</td>\n",
       "      <td>C85</td>\n",
       "      <td>C</td>\n",
       "      <td>2</td>\n",
       "    </tr>\n",
       "    <tr>\n",
       "      <th>2</th>\n",
       "      <td>3</td>\n",
       "      <td>1</td>\n",
       "      <td>3</td>\n",
       "      <td>Heikkinen, Miss. Laina</td>\n",
       "      <td>female</td>\n",
       "      <td>26.0</td>\n",
       "      <td>0</td>\n",
       "      <td>0</td>\n",
       "      <td>STON/O2. 3101282</td>\n",
       "      <td>7.9250</td>\n",
       "      <td>NaN</td>\n",
       "      <td>S</td>\n",
       "      <td>1</td>\n",
       "    </tr>\n",
       "    <tr>\n",
       "      <th>3</th>\n",
       "      <td>4</td>\n",
       "      <td>1</td>\n",
       "      <td>1</td>\n",
       "      <td>Futrelle, Mrs. Jacques Heath (Lily May Peel)</td>\n",
       "      <td>female</td>\n",
       "      <td>35.0</td>\n",
       "      <td>1</td>\n",
       "      <td>0</td>\n",
       "      <td>113803</td>\n",
       "      <td>53.1000</td>\n",
       "      <td>C123</td>\n",
       "      <td>S</td>\n",
       "      <td>2</td>\n",
       "    </tr>\n",
       "    <tr>\n",
       "      <th>4</th>\n",
       "      <td>5</td>\n",
       "      <td>0</td>\n",
       "      <td>3</td>\n",
       "      <td>Allen, Mr. William Henry</td>\n",
       "      <td>male</td>\n",
       "      <td>35.0</td>\n",
       "      <td>0</td>\n",
       "      <td>0</td>\n",
       "      <td>373450</td>\n",
       "      <td>8.0500</td>\n",
       "      <td>NaN</td>\n",
       "      <td>S</td>\n",
       "      <td>0</td>\n",
       "    </tr>\n",
       "  </tbody>\n",
       "</table>\n",
       "</div>"
      ],
      "text/plain": [
       "   PassengerId  Survived  Pclass  \\\n",
       "0            1         0       3   \n",
       "1            2         1       1   \n",
       "2            3         1       3   \n",
       "3            4         1       1   \n",
       "4            5         0       3   \n",
       "\n",
       "                                                Name     Sex   Age  SibSp  \\\n",
       "0                            Braund, Mr. Owen Harris    male  22.0      1   \n",
       "1  Cumings, Mrs. John Bradley (Florence Briggs Th...  female  38.0      1   \n",
       "2                             Heikkinen, Miss. Laina  female  26.0      0   \n",
       "3       Futrelle, Mrs. Jacques Heath (Lily May Peel)  female  35.0      1   \n",
       "4                           Allen, Mr. William Henry    male  35.0      0   \n",
       "\n",
       "   Parch            Ticket     Fare Cabin Embarked  Title  \n",
       "0      0         A/5 21171   7.2500   NaN        S      0  \n",
       "1      0          PC 17599  71.2833   C85        C      2  \n",
       "2      0  STON/O2. 3101282   7.9250   NaN        S      1  \n",
       "3      0            113803  53.1000  C123        S      2  \n",
       "4      0            373450   8.0500   NaN        S      0  "
      ]
     },
     "execution_count": 23,
     "metadata": {},
     "output_type": "execute_result"
    }
   ],
   "source": [
    "train.head()"
   ]
  },
  {
   "cell_type": "code",
   "execution_count": 24,
   "id": "0ecd283b",
   "metadata": {
    "execution": {
     "iopub.execute_input": "2021-07-29T09:17:30.515988Z",
     "iopub.status.busy": "2021-07-29T09:17:30.508752Z",
     "iopub.status.idle": "2021-07-29T09:17:30.520644Z",
     "shell.execute_reply": "2021-07-29T09:17:30.519986Z",
     "shell.execute_reply.started": "2021-07-29T09:15:41.917520Z"
    },
    "papermill": {
     "duration": 0.112776,
     "end_time": "2021-07-29T09:17:30.520788",
     "exception": false,
     "start_time": "2021-07-29T09:17:30.408012",
     "status": "completed"
    },
    "tags": []
   },
   "outputs": [
    {
     "data": {
      "text/html": [
       "<div>\n",
       "<style scoped>\n",
       "    .dataframe tbody tr th:only-of-type {\n",
       "        vertical-align: middle;\n",
       "    }\n",
       "\n",
       "    .dataframe tbody tr th {\n",
       "        vertical-align: top;\n",
       "    }\n",
       "\n",
       "    .dataframe thead th {\n",
       "        text-align: right;\n",
       "    }\n",
       "</style>\n",
       "<table border=\"1\" class=\"dataframe\">\n",
       "  <thead>\n",
       "    <tr style=\"text-align: right;\">\n",
       "      <th></th>\n",
       "      <th>PassengerId</th>\n",
       "      <th>Pclass</th>\n",
       "      <th>Name</th>\n",
       "      <th>Sex</th>\n",
       "      <th>Age</th>\n",
       "      <th>SibSp</th>\n",
       "      <th>Parch</th>\n",
       "      <th>Ticket</th>\n",
       "      <th>Fare</th>\n",
       "      <th>Cabin</th>\n",
       "      <th>Embarked</th>\n",
       "      <th>Title</th>\n",
       "    </tr>\n",
       "  </thead>\n",
       "  <tbody>\n",
       "    <tr>\n",
       "      <th>0</th>\n",
       "      <td>892</td>\n",
       "      <td>3</td>\n",
       "      <td>Kelly, Mr. James</td>\n",
       "      <td>male</td>\n",
       "      <td>34.5</td>\n",
       "      <td>0</td>\n",
       "      <td>0</td>\n",
       "      <td>330911</td>\n",
       "      <td>7.8292</td>\n",
       "      <td>NaN</td>\n",
       "      <td>Q</td>\n",
       "      <td>0</td>\n",
       "    </tr>\n",
       "    <tr>\n",
       "      <th>1</th>\n",
       "      <td>893</td>\n",
       "      <td>3</td>\n",
       "      <td>Wilkes, Mrs. James (Ellen Needs)</td>\n",
       "      <td>female</td>\n",
       "      <td>47.0</td>\n",
       "      <td>1</td>\n",
       "      <td>0</td>\n",
       "      <td>363272</td>\n",
       "      <td>7.0000</td>\n",
       "      <td>NaN</td>\n",
       "      <td>S</td>\n",
       "      <td>2</td>\n",
       "    </tr>\n",
       "    <tr>\n",
       "      <th>2</th>\n",
       "      <td>894</td>\n",
       "      <td>2</td>\n",
       "      <td>Myles, Mr. Thomas Francis</td>\n",
       "      <td>male</td>\n",
       "      <td>62.0</td>\n",
       "      <td>0</td>\n",
       "      <td>0</td>\n",
       "      <td>240276</td>\n",
       "      <td>9.6875</td>\n",
       "      <td>NaN</td>\n",
       "      <td>Q</td>\n",
       "      <td>0</td>\n",
       "    </tr>\n",
       "    <tr>\n",
       "      <th>3</th>\n",
       "      <td>895</td>\n",
       "      <td>3</td>\n",
       "      <td>Wirz, Mr. Albert</td>\n",
       "      <td>male</td>\n",
       "      <td>27.0</td>\n",
       "      <td>0</td>\n",
       "      <td>0</td>\n",
       "      <td>315154</td>\n",
       "      <td>8.6625</td>\n",
       "      <td>NaN</td>\n",
       "      <td>S</td>\n",
       "      <td>0</td>\n",
       "    </tr>\n",
       "    <tr>\n",
       "      <th>4</th>\n",
       "      <td>896</td>\n",
       "      <td>3</td>\n",
       "      <td>Hirvonen, Mrs. Alexander (Helga E Lindqvist)</td>\n",
       "      <td>female</td>\n",
       "      <td>22.0</td>\n",
       "      <td>1</td>\n",
       "      <td>1</td>\n",
       "      <td>3101298</td>\n",
       "      <td>12.2875</td>\n",
       "      <td>NaN</td>\n",
       "      <td>S</td>\n",
       "      <td>2</td>\n",
       "    </tr>\n",
       "  </tbody>\n",
       "</table>\n",
       "</div>"
      ],
      "text/plain": [
       "   PassengerId  Pclass                                          Name     Sex  \\\n",
       "0          892       3                              Kelly, Mr. James    male   \n",
       "1          893       3              Wilkes, Mrs. James (Ellen Needs)  female   \n",
       "2          894       2                     Myles, Mr. Thomas Francis    male   \n",
       "3          895       3                              Wirz, Mr. Albert    male   \n",
       "4          896       3  Hirvonen, Mrs. Alexander (Helga E Lindqvist)  female   \n",
       "\n",
       "    Age  SibSp  Parch   Ticket     Fare Cabin Embarked  Title  \n",
       "0  34.5      0      0   330911   7.8292   NaN        Q      0  \n",
       "1  47.0      1      0   363272   7.0000   NaN        S      2  \n",
       "2  62.0      0      0   240276   9.6875   NaN        Q      0  \n",
       "3  27.0      0      0   315154   8.6625   NaN        S      0  \n",
       "4  22.0      1      1  3101298  12.2875   NaN        S      2  "
      ]
     },
     "execution_count": 24,
     "metadata": {},
     "output_type": "execute_result"
    }
   ],
   "source": [
    "test.head()"
   ]
  },
  {
   "cell_type": "code",
   "execution_count": 25,
   "id": "44bc8932",
   "metadata": {
    "execution": {
     "iopub.execute_input": "2021-07-29T09:17:30.703416Z",
     "iopub.status.busy": "2021-07-29T09:17:30.702333Z",
     "iopub.status.idle": "2021-07-29T09:17:30.908623Z",
     "shell.execute_reply": "2021-07-29T09:17:30.907976Z",
     "shell.execute_reply.started": "2021-07-29T09:15:41.946951Z"
    },
    "papermill": {
     "duration": 0.301204,
     "end_time": "2021-07-29T09:17:30.908764",
     "exception": false,
     "start_time": "2021-07-29T09:17:30.607560",
     "status": "completed"
    },
    "tags": []
   },
   "outputs": [
    {
     "data": {
      "image/png": "[encoded data removed]",
      "text/plain": [
       "<Figure size 720x360 with 1 Axes>"
      ]
     },
     "metadata": {},
     "output_type": "display_data"
    }
   ],
   "source": [
    "bar_chart('Title')"
   ]
  },
  {
   "cell_type": "markdown",
   "id": "b795a9d1",
   "metadata": {
    "papermill": {
     "duration": 0.087738,
     "end_time": "2021-07-29T09:17:31.083821",
     "exception": false,
     "start_time": "2021-07-29T09:17:30.996083",
     "status": "completed"
    },
    "tags": []
   },
   "source": [
    "### Drop Name"
   ]
  },
  {
   "cell_type": "code",
   "execution_count": 26,
   "id": "00c6ad83",
   "metadata": {
    "execution": {
     "iopub.execute_input": "2021-07-29T09:17:31.274748Z",
     "iopub.status.busy": "2021-07-29T09:17:31.273858Z",
     "iopub.status.idle": "2021-07-29T09:17:31.276311Z",
     "shell.execute_reply": "2021-07-29T09:17:31.276895Z",
     "shell.execute_reply.started": "2021-07-29T09:15:42.208680Z"
    },
    "papermill": {
     "duration": 0.105358,
     "end_time": "2021-07-29T09:17:31.277089",
     "exception": false,
     "start_time": "2021-07-29T09:17:31.171731",
     "status": "completed"
    },
    "tags": []
   },
   "outputs": [],
   "source": [
    "train.drop('Name', axis=1, inplace=True)\n",
    "test.drop('Name', axis=1, inplace=True)"
   ]
  },
  {
   "cell_type": "code",
   "execution_count": 27,
   "id": "315218ea",
   "metadata": {
    "execution": {
     "iopub.execute_input": "2021-07-29T09:17:31.481765Z",
     "iopub.status.busy": "2021-07-29T09:17:31.469078Z",
     "iopub.status.idle": "2021-07-29T09:17:31.487006Z",
     "shell.execute_reply": "2021-07-29T09:17:31.486320Z",
     "shell.execute_reply.started": "2021-07-29T09:15:42.225082Z"
    },
    "papermill": {
     "duration": 0.115975,
     "end_time": "2021-07-29T09:17:31.487149",
     "exception": false,
     "start_time": "2021-07-29T09:17:31.371174",
     "status": "completed"
    },
    "tags": []
   },
   "outputs": [
    {
     "data": {
      "text/html": [
       "<div>\n",
       "<style scoped>\n",
       "    .dataframe tbody tr th:only-of-type {\n",
       "        vertical-align: middle;\n",
       "    }\n",
       "\n",
       "    .dataframe tbody tr th {\n",
       "        vertical-align: top;\n",
       "    }\n",
       "\n",
       "    .dataframe thead th {\n",
       "        text-align: right;\n",
       "    }\n",
       "</style>\n",
       "<table border=\"1\" class=\"dataframe\">\n",
       "  <thead>\n",
       "    <tr style=\"text-align: right;\">\n",
       "      <th></th>\n",
       "      <th>PassengerId</th>\n",
       "      <th>Survived</th>\n",
       "      <th>Pclass</th>\n",
       "      <th>Sex</th>\n",
       "      <th>Age</th>\n",
       "      <th>SibSp</th>\n",
       "      <th>Parch</th>\n",
       "      <th>Ticket</th>\n",
       "      <th>Fare</th>\n",
       "      <th>Cabin</th>\n",
       "      <th>Embarked</th>\n",
       "      <th>Title</th>\n",
       "    </tr>\n",
       "  </thead>\n",
       "  <tbody>\n",
       "    <tr>\n",
       "      <th>0</th>\n",
       "      <td>1</td>\n",
       "      <td>0</td>\n",
       "      <td>3</td>\n",
       "      <td>male</td>\n",
       "      <td>22.0</td>\n",
       "      <td>1</td>\n",
       "      <td>0</td>\n",
       "      <td>A/5 21171</td>\n",
       "      <td>7.2500</td>\n",
       "      <td>NaN</td>\n",
       "      <td>S</td>\n",
       "      <td>0</td>\n",
       "    </tr>\n",
       "    <tr>\n",
       "      <th>1</th>\n",
       "      <td>2</td>\n",
       "      <td>1</td>\n",
       "      <td>1</td>\n",
       "      <td>female</td>\n",
       "      <td>38.0</td>\n",
       "      <td>1</td>\n",
       "      <td>0</td>\n",
       "      <td>PC 17599</td>\n",
       "      <td>71.2833</td>\n",
       "      <td>C85</td>\n",
       "      <td>C</td>\n",
       "      <td>2</td>\n",
       "    </tr>\n",
       "    <tr>\n",
       "      <th>2</th>\n",
       "      <td>3</td>\n",
       "      <td>1</td>\n",
       "      <td>3</td>\n",
       "      <td>female</td>\n",
       "      <td>26.0</td>\n",
       "      <td>0</td>\n",
       "      <td>0</td>\n",
       "      <td>STON/O2. 3101282</td>\n",
       "      <td>7.9250</td>\n",
       "      <td>NaN</td>\n",
       "      <td>S</td>\n",
       "      <td>1</td>\n",
       "    </tr>\n",
       "    <tr>\n",
       "      <th>3</th>\n",
       "      <td>4</td>\n",
       "      <td>1</td>\n",
       "      <td>1</td>\n",
       "      <td>female</td>\n",
       "      <td>35.0</td>\n",
       "      <td>1</td>\n",
       "      <td>0</td>\n",
       "      <td>113803</td>\n",
       "      <td>53.1000</td>\n",
       "      <td>C123</td>\n",
       "      <td>S</td>\n",
       "      <td>2</td>\n",
       "    </tr>\n",
       "    <tr>\n",
       "      <th>4</th>\n",
       "      <td>5</td>\n",
       "      <td>0</td>\n",
       "      <td>3</td>\n",
       "      <td>male</td>\n",
       "      <td>35.0</td>\n",
       "      <td>0</td>\n",
       "      <td>0</td>\n",
       "      <td>373450</td>\n",
       "      <td>8.0500</td>\n",
       "      <td>NaN</td>\n",
       "      <td>S</td>\n",
       "      <td>0</td>\n",
       "    </tr>\n",
       "  </tbody>\n",
       "</table>\n",
       "</div>"
      ],
      "text/plain": [
       "   PassengerId  Survived  Pclass     Sex   Age  SibSp  Parch  \\\n",
       "0            1         0       3    male  22.0      1      0   \n",
       "1            2         1       1  female  38.0      1      0   \n",
       "2            3         1       3  female  26.0      0      0   \n",
       "3            4         1       1  female  35.0      1      0   \n",
       "4            5         0       3    male  35.0      0      0   \n",
       "\n",
       "             Ticket     Fare Cabin Embarked  Title  \n",
       "0         A/5 21171   7.2500   NaN        S      0  \n",
       "1          PC 17599  71.2833   C85        C      2  \n",
       "2  STON/O2. 3101282   7.9250   NaN        S      1  \n",
       "3            113803  53.1000  C123        S      2  \n",
       "4            373450   8.0500   NaN        S      0  "
      ]
     },
     "execution_count": 27,
     "metadata": {},
     "output_type": "execute_result"
    }
   ],
   "source": [
    "train.head()"
   ]
  },
  {
   "cell_type": "code",
   "execution_count": 28,
   "id": "dda5ff57",
   "metadata": {
    "execution": {
     "iopub.execute_input": "2021-07-29T09:17:31.692668Z",
     "iopub.status.busy": "2021-07-29T09:17:31.691356Z",
     "iopub.status.idle": "2021-07-29T09:17:31.699143Z",
     "shell.execute_reply": "2021-07-29T09:17:31.698603Z",
     "shell.execute_reply.started": "2021-07-29T09:15:42.250984Z"
    },
    "papermill": {
     "duration": 0.120174,
     "end_time": "2021-07-29T09:17:31.699299",
     "exception": false,
     "start_time": "2021-07-29T09:17:31.579125",
     "status": "completed"
    },
    "tags": []
   },
   "outputs": [
    {
     "data": {
      "text/html": [
       "<div>\n",
       "<style scoped>\n",
       "    .dataframe tbody tr th:only-of-type {\n",
       "        vertical-align: middle;\n",
       "    }\n",
       "\n",
       "    .dataframe tbody tr th {\n",
       "        vertical-align: top;\n",
       "    }\n",
       "\n",
       "    .dataframe thead th {\n",
       "        text-align: right;\n",
       "    }\n",
       "</style>\n",
       "<table border=\"1\" class=\"dataframe\">\n",
       "  <thead>\n",
       "    <tr style=\"text-align: right;\">\n",
       "      <th></th>\n",
       "      <th>PassengerId</th>\n",
       "      <th>Pclass</th>\n",
       "      <th>Sex</th>\n",
       "      <th>Age</th>\n",
       "      <th>SibSp</th>\n",
       "      <th>Parch</th>\n",
       "      <th>Ticket</th>\n",
       "      <th>Fare</th>\n",
       "      <th>Cabin</th>\n",
       "      <th>Embarked</th>\n",
       "      <th>Title</th>\n",
       "    </tr>\n",
       "  </thead>\n",
       "  <tbody>\n",
       "    <tr>\n",
       "      <th>0</th>\n",
       "      <td>892</td>\n",
       "      <td>3</td>\n",
       "      <td>male</td>\n",
       "      <td>34.5</td>\n",
       "      <td>0</td>\n",
       "      <td>0</td>\n",
       "      <td>330911</td>\n",
       "      <td>7.8292</td>\n",
       "      <td>NaN</td>\n",
       "      <td>Q</td>\n",
       "      <td>0</td>\n",
       "    </tr>\n",
       "    <tr>\n",
       "      <th>1</th>\n",
       "      <td>893</td>\n",
       "      <td>3</td>\n",
       "      <td>female</td>\n",
       "      <td>47.0</td>\n",
       "      <td>1</td>\n",
       "      <td>0</td>\n",
       "      <td>363272</td>\n",
       "      <td>7.0000</td>\n",
       "      <td>NaN</td>\n",
       "      <td>S</td>\n",
       "      <td>2</td>\n",
       "    </tr>\n",
       "    <tr>\n",
       "      <th>2</th>\n",
       "      <td>894</td>\n",
       "      <td>2</td>\n",
       "      <td>male</td>\n",
       "      <td>62.0</td>\n",
       "      <td>0</td>\n",
       "      <td>0</td>\n",
       "      <td>240276</td>\n",
       "      <td>9.6875</td>\n",
       "      <td>NaN</td>\n",
       "      <td>Q</td>\n",
       "      <td>0</td>\n",
       "    </tr>\n",
       "    <tr>\n",
       "      <th>3</th>\n",
       "      <td>895</td>\n",
       "      <td>3</td>\n",
       "      <td>male</td>\n",
       "      <td>27.0</td>\n",
       "      <td>0</td>\n",
       "      <td>0</td>\n",
       "      <td>315154</td>\n",
       "      <td>8.6625</td>\n",
       "      <td>NaN</td>\n",
       "      <td>S</td>\n",
       "      <td>0</td>\n",
       "    </tr>\n",
       "    <tr>\n",
       "      <th>4</th>\n",
       "      <td>896</td>\n",
       "      <td>3</td>\n",
       "      <td>female</td>\n",
       "      <td>22.0</td>\n",
       "      <td>1</td>\n",
       "      <td>1</td>\n",
       "      <td>3101298</td>\n",
       "      <td>12.2875</td>\n",
       "      <td>NaN</td>\n",
       "      <td>S</td>\n",
       "      <td>2</td>\n",
       "    </tr>\n",
       "  </tbody>\n",
       "</table>\n",
       "</div>"
      ],
      "text/plain": [
       "   PassengerId  Pclass     Sex   Age  SibSp  Parch   Ticket     Fare Cabin  \\\n",
       "0          892       3    male  34.5      0      0   330911   7.8292   NaN   \n",
       "1          893       3  female  47.0      1      0   363272   7.0000   NaN   \n",
       "2          894       2    male  62.0      0      0   240276   9.6875   NaN   \n",
       "3          895       3    male  27.0      0      0   315154   8.6625   NaN   \n",
       "4          896       3  female  22.0      1      1  3101298  12.2875   NaN   \n",
       "\n",
       "  Embarked  Title  \n",
       "0        Q      0  \n",
       "1        S      2  \n",
       "2        Q      0  \n",
       "3        S      0  \n",
       "4        S      2  "
      ]
     },
     "execution_count": 28,
     "metadata": {},
     "output_type": "execute_result"
    }
   ],
   "source": [
    "test.head()"
   ]
  },
  {
   "cell_type": "markdown",
   "id": "bcd7c4d3",
   "metadata": {
    "papermill": {
     "duration": 0.090768,
     "end_time": "2021-07-29T09:17:31.902896",
     "exception": false,
     "start_time": "2021-07-29T09:17:31.812128",
     "status": "completed"
    },
    "tags": []
   },
   "source": [
    "### 2. Sex"
   ]
  },
  {
   "cell_type": "code",
   "execution_count": 29,
   "id": "a05e9b45",
   "metadata": {
    "execution": {
     "iopub.execute_input": "2021-07-29T09:17:32.088512Z",
     "iopub.status.busy": "2021-07-29T09:17:32.087410Z",
     "iopub.status.idle": "2021-07-29T09:17:32.091923Z",
     "shell.execute_reply": "2021-07-29T09:17:32.092425Z",
     "shell.execute_reply.started": "2021-07-29T09:15:42.284418Z"
    },
    "papermill": {
     "duration": 0.10101,
     "end_time": "2021-07-29T09:17:32.092722",
     "exception": false,
     "start_time": "2021-07-29T09:17:31.991712",
     "status": "completed"
    },
    "tags": []
   },
   "outputs": [],
   "source": [
    "sex_mapping = {'male':0, 'female':1}\n",
    "for data in train_test_data:\n",
    "    data['Sex'] = data['Sex'].map(sex_mapping)"
   ]
  },
  {
   "cell_type": "code",
   "execution_count": 30,
   "id": "28384a34",
   "metadata": {
    "execution": {
     "iopub.execute_input": "2021-07-29T09:17:32.279019Z",
     "iopub.status.busy": "2021-07-29T09:17:32.278212Z",
     "iopub.status.idle": "2021-07-29T09:17:32.482711Z",
     "shell.execute_reply": "2021-07-29T09:17:32.483259Z",
     "shell.execute_reply.started": "2021-07-29T09:15:42.299692Z"
    },
    "papermill": {
     "duration": 0.299839,
     "end_time": "2021-07-29T09:17:32.483440",
     "exception": false,
     "start_time": "2021-07-29T09:17:32.183601",
     "status": "completed"
    },
    "tags": []
   },
   "outputs": [
    {
     "data": {
      "image/png": "[encoded data removed]",
      "text/plain": [
       "<Figure size 720x360 with 1 Axes>"
      ]
     },
     "metadata": {},
     "output_type": "display_data"
    }
   ],
   "source": [
    "bar_chart('Sex')"
   ]
  },
  {
   "cell_type": "markdown",
   "id": "3c005953",
   "metadata": {
    "papermill": {
     "duration": 0.089794,
     "end_time": "2021-07-29T09:17:32.663013",
     "exception": false,
     "start_time": "2021-07-29T09:17:32.573219",
     "status": "completed"
    },
    "tags": []
   },
   "source": [
    "### 3. Age\n",
    "\n",
    "* input missing value and analyze"
   ]
  },
  {
   "cell_type": "code",
   "execution_count": 31,
   "id": "cab610f4",
   "metadata": {
    "execution": {
     "iopub.execute_input": "2021-07-29T09:17:32.849045Z",
     "iopub.status.busy": "2021-07-29T09:17:32.848210Z",
     "iopub.status.idle": "2021-07-29T09:17:32.861714Z",
     "shell.execute_reply": "2021-07-29T09:17:32.860980Z",
     "shell.execute_reply.started": "2021-07-29T09:15:42.525329Z"
    },
    "papermill": {
     "duration": 0.107246,
     "end_time": "2021-07-29T09:17:32.861968",
     "exception": false,
     "start_time": "2021-07-29T09:17:32.754722",
     "status": "completed"
    },
    "tags": []
   },
   "outputs": [],
   "source": [
    "train['Age'].fillna(train.groupby('Title')['Age'].transform('median'), inplace=True)\n",
    "test['Age'].fillna(test.groupby('Title')['Age'].transform('median'), inplace=True)"
   ]
  },
  {
   "cell_type": "code",
   "execution_count": 32,
   "id": "027f6ff5",
   "metadata": {
    "execution": {
     "iopub.execute_input": "2021-07-29T09:17:33.067702Z",
     "iopub.status.busy": "2021-07-29T09:17:33.049440Z",
     "iopub.status.idle": "2021-07-29T09:17:33.700542Z",
     "shell.execute_reply": "2021-07-29T09:17:33.699807Z",
     "shell.execute_reply.started": "2021-07-29T09:15:42.545430Z"
    },
    "papermill": {
     "duration": 0.747303,
     "end_time": "2021-07-29T09:17:33.700692",
     "exception": false,
     "start_time": "2021-07-29T09:17:32.953389",
     "status": "completed"
    },
    "tags": []
   },
   "outputs": [
    {
     "data": {
      "image/png": "[encoded data removed]",
      "text/plain": [
       "<Figure size 925.55x216 with 1 Axes>"
      ]
     },
     "metadata": {},
     "output_type": "display_data"
    }
   ],
   "source": [
    "facet = sns.FacetGrid(train, hue='Survived', aspect=4)\n",
    "facet.map(sns.kdeplot, 'Age', shade=True)\n",
    "facet.set(xlim=(0, train['Age'].max()))\n",
    "facet.add_legend()\n",
    "\n",
    "plt.show()"
   ]
  },
  {
   "cell_type": "code",
   "execution_count": 33,
   "id": "b9aa4659",
   "metadata": {
    "execution": {
     "iopub.execute_input": "2021-07-29T09:17:33.924276Z",
     "iopub.status.busy": "2021-07-29T09:17:33.914405Z",
     "iopub.status.idle": "2021-07-29T09:17:34.450904Z",
     "shell.execute_reply": "2021-07-29T09:17:34.450210Z",
     "shell.execute_reply.started": "2021-07-29T09:15:43.231316Z"
    },
    "papermill": {
     "duration": 0.658818,
     "end_time": "2021-07-29T09:17:34.451053",
     "exception": false,
     "start_time": "2021-07-29T09:17:33.792235",
     "status": "completed"
    },
    "tags": []
   },
   "outputs": [
    {
     "data": {
      "text/plain": [
       "(0.0, 20.0)"
      ]
     },
     "execution_count": 33,
     "metadata": {},
     "output_type": "execute_result"
    },
    {
     "data": {
      "image/png": "[encoded data removed]",
      "text/plain": [
       "<Figure size 925.55x216 with 1 Axes>"
      ]
     },
     "metadata": {},
     "output_type": "display_data"
    }
   ],
   "source": [
    "facet = sns.FacetGrid(train, hue='Survived',aspect=4)\n",
    "facet.map(sns.kdeplot,'Age',shade=True)\n",
    "facet.set(xlim=(0, train['Age'].max()))\n",
    "facet.add_legend()\n",
    "\n",
    "plt.xlim(0, 20)"
   ]
  },
  {
   "cell_type": "code",
   "execution_count": 34,
   "id": "c6c25e3e",
   "metadata": {
    "execution": {
     "iopub.execute_input": "2021-07-29T09:17:34.679552Z",
     "iopub.status.busy": "2021-07-29T09:17:34.676635Z",
     "iopub.status.idle": "2021-07-29T09:17:35.188976Z",
     "shell.execute_reply": "2021-07-29T09:17:35.188369Z",
     "shell.execute_reply.started": "2021-07-29T09:15:43.870624Z"
    },
    "papermill": {
     "duration": 0.646172,
     "end_time": "2021-07-29T09:17:35.189143",
     "exception": false,
     "start_time": "2021-07-29T09:17:34.542971",
     "status": "completed"
    },
    "tags": []
   },
   "outputs": [
    {
     "data": {
      "text/plain": [
       "(20.0, 30.0)"
      ]
     },
     "execution_count": 34,
     "metadata": {},
     "output_type": "execute_result"
    },
    {
     "data": {
      "image/png": "[encoded data removed]",
      "text/plain": [
       "<Figure size 925.55x216 with 1 Axes>"
      ]
     },
     "metadata": {},
     "output_type": "display_data"
    }
   ],
   "source": [
    "facet = sns.FacetGrid(train, hue='Survived',aspect=4)\n",
    "facet.map(sns.kdeplot,'Age',shade=True)\n",
    "facet.set(xlim=(0, train['Age'].max()))\n",
    "facet.add_legend()\n",
    "\n",
    "plt.xlim(20, 30)"
   ]
  },
  {
   "cell_type": "code",
   "execution_count": 35,
   "id": "3e68bc4c",
   "metadata": {
    "execution": {
     "iopub.execute_input": "2021-07-29T09:17:35.407709Z",
     "iopub.status.busy": "2021-07-29T09:17:35.389866Z",
     "iopub.status.idle": "2021-07-29T09:17:35.944274Z",
     "shell.execute_reply": "2021-07-29T09:17:35.943715Z",
     "shell.execute_reply.started": "2021-07-29T09:15:44.465210Z"
    },
    "papermill": {
     "duration": 0.656416,
     "end_time": "2021-07-29T09:17:35.944427",
     "exception": false,
     "start_time": "2021-07-29T09:17:35.288011",
     "status": "completed"
    },
    "tags": []
   },
   "outputs": [
    {
     "data": {
      "text/plain": [
       "(30.0, 40.0)"
      ]
     },
     "execution_count": 35,
     "metadata": {},
     "output_type": "execute_result"
    },
    {
     "data": {
      "image/png": "[encoded data removed]",
      "text/plain": [
       "<Figure size 925.55x216 with 1 Axes>"
      ]
     },
     "metadata": {},
     "output_type": "display_data"
    }
   ],
   "source": [
    "facet = sns.FacetGrid(train, hue='Survived',aspect=4)\n",
    "facet.map(sns.kdeplot,'Age',shade=True)\n",
    "facet.set(xlim=(0, train['Age'].max()))\n",
    "facet.add_legend()\n",
    "\n",
    "plt.xlim(30, 40)"
   ]
  },
  {
   "cell_type": "code",
   "execution_count": 36,
   "id": "93a4a05b",
   "metadata": {
    "execution": {
     "iopub.execute_input": "2021-07-29T09:17:36.160565Z",
     "iopub.status.busy": "2021-07-29T09:17:36.145028Z",
     "iopub.status.idle": "2021-07-29T09:17:36.683281Z",
     "shell.execute_reply": "2021-07-29T09:17:36.682620Z",
     "shell.execute_reply.started": "2021-07-29T09:15:45.075518Z"
    },
    "papermill": {
     "duration": 0.643772,
     "end_time": "2021-07-29T09:17:36.683420",
     "exception": false,
     "start_time": "2021-07-29T09:17:36.039648",
     "status": "completed"
    },
    "tags": []
   },
   "outputs": [
    {
     "data": {
      "text/plain": [
       "(40.0, 50.0)"
      ]
     },
     "execution_count": 36,
     "metadata": {},
     "output_type": "execute_result"
    },
    {
     "data": {
      "image/png": "[encoded data removed]",
      "text/plain": [
       "<Figure size 925.55x216 with 1 Axes>"
      ]
     },
     "metadata": {},
     "output_type": "display_data"
    }
   ],
   "source": [
    "facet = sns.FacetGrid(train, hue='Survived',aspect=4)\n",
    "facet.map(sns.kdeplot,'Age',shade=True)\n",
    "facet.set(xlim=(0, train['Age'].max()))\n",
    "facet.add_legend()\n",
    "\n",
    "plt.xlim(40, 50)"
   ]
  },
  {
   "cell_type": "code",
   "execution_count": 37,
   "id": "1f95793f",
   "metadata": {
    "execution": {
     "iopub.execute_input": "2021-07-29T09:17:36.911113Z",
     "iopub.status.busy": "2021-07-29T09:17:36.903192Z",
     "iopub.status.idle": "2021-07-29T09:17:37.423512Z",
     "shell.execute_reply": "2021-07-29T09:17:37.422903Z",
     "shell.execute_reply.started": "2021-07-29T09:15:45.668097Z"
    },
    "papermill": {
     "duration": 0.639424,
     "end_time": "2021-07-29T09:17:37.423655",
     "exception": false,
     "start_time": "2021-07-29T09:17:36.784231",
     "status": "completed"
    },
    "tags": []
   },
   "outputs": [
    {
     "data": {
      "text/plain": [
       "(50.0, 60.0)"
      ]
     },
     "execution_count": 37,
     "metadata": {},
     "output_type": "execute_result"
    },
    {
     "data": {
      "image/png": "[encoded data removed]",
      "text/plain": [
       "<Figure size 925.55x216 with 1 Axes>"
      ]
     },
     "metadata": {},
     "output_type": "display_data"
    }
   ],
   "source": [
    "facet = sns.FacetGrid(train, hue='Survived',aspect=4)\n",
    "facet.map(sns.kdeplot,'Age',shade=True)\n",
    "facet.set(xlim=(0, train['Age'].max()))\n",
    "facet.add_legend()\n",
    "\n",
    "plt.xlim(50, 60)"
   ]
  },
  {
   "cell_type": "code",
   "execution_count": 38,
   "id": "6a79f022",
   "metadata": {
    "execution": {
     "iopub.execute_input": "2021-07-29T09:17:37.650438Z",
     "iopub.status.busy": "2021-07-29T09:17:37.648612Z",
     "iopub.status.idle": "2021-07-29T09:17:38.162566Z",
     "shell.execute_reply": "2021-07-29T09:17:38.161930Z",
     "shell.execute_reply.started": "2021-07-29T09:15:46.256880Z"
    },
    "papermill": {
     "duration": 0.640972,
     "end_time": "2021-07-29T09:17:38.162721",
     "exception": false,
     "start_time": "2021-07-29T09:17:37.521749",
     "status": "completed"
    },
    "tags": []
   },
   "outputs": [
    {
     "data": {
      "text/plain": [
       "(60.0, 70.0)"
      ]
     },
     "execution_count": 38,
     "metadata": {},
     "output_type": "execute_result"
    },
    {
     "data": {
      "image/png": "[encoded data removed]",
      "text/plain": [
       "<Figure size 925.55x216 with 1 Axes>"
      ]
     },
     "metadata": {},
     "output_type": "display_data"
    }
   ],
   "source": [
    "facet = sns.FacetGrid(train, hue='Survived',aspect=4)\n",
    "facet.map(sns.kdeplot,'Age',shade=True)\n",
    "facet.set(xlim=(0, train['Age'].max()))\n",
    "facet.add_legend()\n",
    "\n",
    "plt.xlim(60, 70)"
   ]
  },
  {
   "cell_type": "code",
   "execution_count": 39,
   "id": "f712c9e8",
   "metadata": {
    "execution": {
     "iopub.execute_input": "2021-07-29T09:17:38.368861Z",
     "iopub.status.busy": "2021-07-29T09:17:38.368194Z",
     "iopub.status.idle": "2021-07-29T09:17:38.885847Z",
     "shell.execute_reply": "2021-07-29T09:17:38.886334Z",
     "shell.execute_reply.started": "2021-07-29T09:15:46.842513Z"
    },
    "papermill": {
     "duration": 0.622979,
     "end_time": "2021-07-29T09:17:38.886535",
     "exception": false,
     "start_time": "2021-07-29T09:17:38.263556",
     "status": "completed"
    },
    "tags": []
   },
   "outputs": [
    {
     "data": {
      "text/plain": [
       "(70.0, 80.0)"
      ]
     },
     "execution_count": 39,
     "metadata": {},
     "output_type": "execute_result"
    },
    {
     "data": {
      "image/png": "[encoded data removed]",
      "text/plain": [
       "<Figure size 925.55x216 with 1 Axes>"
      ]
     },
     "metadata": {},
     "output_type": "display_data"
    }
   ],
   "source": [
    "facet = sns.FacetGrid(train, hue='Survived',aspect=4)\n",
    "facet.map(sns.kdeplot,'Age',shade=True)\n",
    "facet.set(xlim=(0, train['Age'].max()))\n",
    "facet.add_legend()\n",
    "\n",
    "plt.xlim(70, 80)"
   ]
  },
  {
   "cell_type": "code",
   "execution_count": 40,
   "id": "0b9f53da",
   "metadata": {
    "execution": {
     "iopub.execute_input": "2021-07-29T09:17:39.102767Z",
     "iopub.status.busy": "2021-07-29T09:17:39.102024Z",
     "iopub.status.idle": "2021-07-29T09:17:39.106364Z",
     "shell.execute_reply": "2021-07-29T09:17:39.105782Z",
     "shell.execute_reply.started": "2021-07-29T09:15:47.425594Z"
    },
    "papermill": {
     "duration": 0.12056,
     "end_time": "2021-07-29T09:17:39.106538",
     "exception": false,
     "start_time": "2021-07-29T09:17:38.985978",
     "status": "completed"
    },
    "tags": []
   },
   "outputs": [
    {
     "name": "stdout",
     "output_type": "stream",
     "text": [
      "<class 'pandas.core.frame.DataFrame'>\n",
      "RangeIndex: 891 entries, 0 to 890\n",
      "Data columns (total 12 columns):\n",
      " #   Column       Non-Null Count  Dtype  \n",
      "---  ------       --------------  -----  \n",
      " 0   PassengerId  891 non-null    int64  \n",
      " 1   Survived     891 non-null    int64  \n",
      " 2   Pclass       891 non-null    int64  \n",
      " 3   Sex          891 non-null    int64  \n",
      " 4   Age          891 non-null    float64\n",
      " 5   SibSp        891 non-null    int64  \n",
      " 6   Parch        891 non-null    int64  \n",
      " 7   Ticket       891 non-null    object \n",
      " 8   Fare         891 non-null    float64\n",
      " 9   Cabin        204 non-null    object \n",
      " 10  Embarked     889 non-null    object \n",
      " 11  Title        891 non-null    int64  \n",
      "dtypes: float64(2), int64(7), object(3)\n",
      "memory usage: 83.7+ KB\n"
     ]
    }
   ],
   "source": [
    "train.info()"
   ]
  },
  {
   "cell_type": "code",
   "execution_count": 41,
   "id": "6158880f",
   "metadata": {
    "execution": {
     "iopub.execute_input": "2021-07-29T09:17:39.324593Z",
     "iopub.status.busy": "2021-07-29T09:17:39.323583Z",
     "iopub.status.idle": "2021-07-29T09:17:39.327572Z",
     "shell.execute_reply": "2021-07-29T09:17:39.328114Z",
     "shell.execute_reply.started": "2021-07-29T09:15:47.443538Z"
    },
    "papermill": {
     "duration": 0.12164,
     "end_time": "2021-07-29T09:17:39.328303",
     "exception": false,
     "start_time": "2021-07-29T09:17:39.206663",
     "status": "completed"
    },
    "tags": []
   },
   "outputs": [
    {
     "name": "stdout",
     "output_type": "stream",
     "text": [
      "<class 'pandas.core.frame.DataFrame'>\n",
      "RangeIndex: 418 entries, 0 to 417\n",
      "Data columns (total 11 columns):\n",
      " #   Column       Non-Null Count  Dtype  \n",
      "---  ------       --------------  -----  \n",
      " 0   PassengerId  418 non-null    int64  \n",
      " 1   Pclass       418 non-null    int64  \n",
      " 2   Sex          418 non-null    int64  \n",
      " 3   Age          418 non-null    float64\n",
      " 4   SibSp        418 non-null    int64  \n",
      " 5   Parch        418 non-null    int64  \n",
      " 6   Ticket       418 non-null    object \n",
      " 7   Fare         417 non-null    float64\n",
      " 8   Cabin        91 non-null     object \n",
      " 9   Embarked     418 non-null    object \n",
      " 10  Title        418 non-null    int64  \n",
      "dtypes: float64(2), int64(6), object(3)\n",
      "memory usage: 36.0+ KB\n"
     ]
    }
   ],
   "source": [
    "test.info()"
   ]
  },
  {
   "cell_type": "markdown",
   "id": "c1a97df5",
   "metadata": {
    "papermill": {
     "duration": 0.102554,
     "end_time": "2021-07-29T09:17:39.533057",
     "exception": false,
     "start_time": "2021-07-29T09:17:39.430503",
     "status": "completed"
    },
    "tags": []
   },
   "source": [
    "## Convert Numerical Age to Categorical Age\n",
    "\n",
    "* child within (0-15) = 0\n",
    "* teenager/youth within (16-25) = 1\n",
    "* adult within (26-35) = 2\n",
    "* mid-age within (36-61) = 3\n",
    "* old (62 and above) = 4"
   ]
  },
  {
   "cell_type": "code",
   "execution_count": 42,
   "id": "957be5c8",
   "metadata": {
    "execution": {
     "iopub.execute_input": "2021-07-29T09:17:39.752556Z",
     "iopub.status.busy": "2021-07-29T09:17:39.751375Z",
     "iopub.status.idle": "2021-07-29T09:17:39.756234Z",
     "shell.execute_reply": "2021-07-29T09:17:39.755693Z",
     "shell.execute_reply.started": "2021-07-29T09:15:47.466745Z"
    },
    "papermill": {
     "duration": 0.121471,
     "end_time": "2021-07-29T09:17:39.756375",
     "exception": false,
     "start_time": "2021-07-29T09:17:39.634904",
     "status": "completed"
    },
    "tags": []
   },
   "outputs": [
    {
     "data": {
      "text/html": [
       "<div>\n",
       "<style scoped>\n",
       "    .dataframe tbody tr th:only-of-type {\n",
       "        vertical-align: middle;\n",
       "    }\n",
       "\n",
       "    .dataframe tbody tr th {\n",
       "        vertical-align: top;\n",
       "    }\n",
       "\n",
       "    .dataframe thead th {\n",
       "        text-align: right;\n",
       "    }\n",
       "</style>\n",
       "<table border=\"1\" class=\"dataframe\">\n",
       "  <thead>\n",
       "    <tr style=\"text-align: right;\">\n",
       "      <th></th>\n",
       "      <th>PassengerId</th>\n",
       "      <th>Survived</th>\n",
       "      <th>Pclass</th>\n",
       "      <th>Sex</th>\n",
       "      <th>Age</th>\n",
       "      <th>SibSp</th>\n",
       "      <th>Parch</th>\n",
       "      <th>Ticket</th>\n",
       "      <th>Fare</th>\n",
       "      <th>Cabin</th>\n",
       "      <th>Embarked</th>\n",
       "      <th>Title</th>\n",
       "    </tr>\n",
       "  </thead>\n",
       "  <tbody>\n",
       "    <tr>\n",
       "      <th>0</th>\n",
       "      <td>1</td>\n",
       "      <td>0</td>\n",
       "      <td>3</td>\n",
       "      <td>0</td>\n",
       "      <td>22.0</td>\n",
       "      <td>1</td>\n",
       "      <td>0</td>\n",
       "      <td>A/5 21171</td>\n",
       "      <td>7.2500</td>\n",
       "      <td>NaN</td>\n",
       "      <td>S</td>\n",
       "      <td>0</td>\n",
       "    </tr>\n",
       "    <tr>\n",
       "      <th>1</th>\n",
       "      <td>2</td>\n",
       "      <td>1</td>\n",
       "      <td>1</td>\n",
       "      <td>1</td>\n",
       "      <td>38.0</td>\n",
       "      <td>1</td>\n",
       "      <td>0</td>\n",
       "      <td>PC 17599</td>\n",
       "      <td>71.2833</td>\n",
       "      <td>C85</td>\n",
       "      <td>C</td>\n",
       "      <td>2</td>\n",
       "    </tr>\n",
       "    <tr>\n",
       "      <th>2</th>\n",
       "      <td>3</td>\n",
       "      <td>1</td>\n",
       "      <td>3</td>\n",
       "      <td>1</td>\n",
       "      <td>26.0</td>\n",
       "      <td>0</td>\n",
       "      <td>0</td>\n",
       "      <td>STON/O2. 3101282</td>\n",
       "      <td>7.9250</td>\n",
       "      <td>NaN</td>\n",
       "      <td>S</td>\n",
       "      <td>1</td>\n",
       "    </tr>\n",
       "    <tr>\n",
       "      <th>3</th>\n",
       "      <td>4</td>\n",
       "      <td>1</td>\n",
       "      <td>1</td>\n",
       "      <td>1</td>\n",
       "      <td>35.0</td>\n",
       "      <td>1</td>\n",
       "      <td>0</td>\n",
       "      <td>113803</td>\n",
       "      <td>53.1000</td>\n",
       "      <td>C123</td>\n",
       "      <td>S</td>\n",
       "      <td>2</td>\n",
       "    </tr>\n",
       "    <tr>\n",
       "      <th>4</th>\n",
       "      <td>5</td>\n",
       "      <td>0</td>\n",
       "      <td>3</td>\n",
       "      <td>0</td>\n",
       "      <td>35.0</td>\n",
       "      <td>0</td>\n",
       "      <td>0</td>\n",
       "      <td>373450</td>\n",
       "      <td>8.0500</td>\n",
       "      <td>NaN</td>\n",
       "      <td>S</td>\n",
       "      <td>0</td>\n",
       "    </tr>\n",
       "  </tbody>\n",
       "</table>\n",
       "</div>"
      ],
      "text/plain": [
       "   PassengerId  Survived  Pclass  Sex   Age  SibSp  Parch            Ticket  \\\n",
       "0            1         0       3    0  22.0      1      0         A/5 21171   \n",
       "1            2         1       1    1  38.0      1      0          PC 17599   \n",
       "2            3         1       3    1  26.0      0      0  STON/O2. 3101282   \n",
       "3            4         1       1    1  35.0      1      0            113803   \n",
       "4            5         0       3    0  35.0      0      0            373450   \n",
       "\n",
       "      Fare Cabin Embarked  Title  \n",
       "0   7.2500   NaN        S      0  \n",
       "1  71.2833   C85        C      2  \n",
       "2   7.9250   NaN        S      1  \n",
       "3  53.1000  C123        S      2  \n",
       "4   8.0500   NaN        S      0  "
      ]
     },
     "execution_count": 42,
     "metadata": {},
     "output_type": "execute_result"
    }
   ],
   "source": [
    "train.head()"
   ]
  },
  {
   "cell_type": "code",
   "execution_count": 43,
   "id": "d2b485b4",
   "metadata": {
    "execution": {
     "iopub.execute_input": "2021-07-29T09:17:39.965921Z",
     "iopub.status.busy": "2021-07-29T09:17:39.965097Z",
     "iopub.status.idle": "2021-07-29T09:17:42.029077Z",
     "shell.execute_reply": "2021-07-29T09:17:42.028390Z",
     "shell.execute_reply.started": "2021-07-29T09:15:47.493023Z"
    },
    "papermill": {
     "duration": 2.171546,
     "end_time": "2021-07-29T09:17:42.029220",
     "exception": false,
     "start_time": "2021-07-29T09:17:39.857674",
     "status": "completed"
    },
    "tags": []
   },
   "outputs": [
    {
     "data": {
      "image/png": "[encoded data removed]",
      "text/plain": [
       "<Figure size 720x360 with 1 Axes>"
      ]
     },
     "metadata": {},
     "output_type": "display_data"
    }
   ],
   "source": [
    "bar_chart('Age')"
   ]
  },
  {
   "cell_type": "markdown",
   "id": "b0d6f932",
   "metadata": {
    "papermill": {
     "duration": 0.104128,
     "end_time": "2021-07-29T09:17:42.237883",
     "exception": false,
     "start_time": "2021-07-29T09:17:42.133755",
     "status": "completed"
    },
    "tags": []
   },
   "source": [
    "### 4. Embarked"
   ]
  },
  {
   "cell_type": "code",
   "execution_count": 44,
   "id": "9dacab34",
   "metadata": {
    "execution": {
     "iopub.execute_input": "2021-07-29T09:17:42.498122Z",
     "iopub.status.busy": "2021-07-29T09:17:42.488158Z",
     "iopub.status.idle": "2021-07-29T09:17:42.696075Z",
     "shell.execute_reply": "2021-07-29T09:17:42.695374Z",
     "shell.execute_reply.started": "2021-07-29T09:15:49.845271Z"
    },
    "papermill": {
     "duration": 0.355344,
     "end_time": "2021-07-29T09:17:42.696222",
     "exception": false,
     "start_time": "2021-07-29T09:17:42.340878",
     "status": "completed"
    },
    "tags": []
   },
   "outputs": [
    {
     "data": {
      "text/plain": [
       "<AxesSubplot:>"
      ]
     },
     "execution_count": 44,
     "metadata": {},
     "output_type": "execute_result"
    },
    {
     "data": {
      "image/png": "[encoded data removed]",
      "text/plain": [
       "<Figure size 720x360 with 1 Axes>"
      ]
     },
     "metadata": {},
     "output_type": "display_data"
    }
   ],
   "source": [
    "# S = Southampton, C = Cherbourg, Q = Queenstown\n",
    "Pclass1 = train[train['Pclass']==1]['Embarked'].value_counts()\n",
    "Pclass2 = train[train['Pclass']==2]['Embarked'].value_counts()\n",
    "Pclass3 = train[train['Pclass']==3]['Embarked'].value_counts()\n",
    "df = pd.DataFrame([Pclass1, Pclass2, Pclass3])\n",
    "df.index = ['Íst Class', '2nd Class', '3rd Class']\n",
    "df.plot(kind='bar', stacked=False, figsize=(10,5))"
   ]
  },
  {
   "cell_type": "markdown",
   "id": "ec90a7ab",
   "metadata": {
    "papermill": {
     "duration": 0.103792,
     "end_time": "2021-07-29T09:17:42.935030",
     "exception": false,
     "start_time": "2021-07-29T09:17:42.831238",
     "status": "completed"
    },
    "tags": []
   },
   "source": [
    "* more than 50% of all the classes (1st, 2nd and 3rd) are from Southampton(S)\n",
    "\n",
    "* given the fact that more passengers boarded from S, we will fill out the missing values in Embark with value S"
   ]
  },
  {
   "cell_type": "code",
   "execution_count": 45,
   "id": "d96118ed",
   "metadata": {
    "execution": {
     "iopub.execute_input": "2021-07-29T09:17:43.160864Z",
     "iopub.status.busy": "2021-07-29T09:17:43.160062Z",
     "iopub.status.idle": "2021-07-29T09:17:43.163787Z",
     "shell.execute_reply": "2021-07-29T09:17:43.163202Z",
     "shell.execute_reply.started": "2021-07-29T09:15:50.122736Z"
    },
    "papermill": {
     "duration": 0.118423,
     "end_time": "2021-07-29T09:17:43.163962",
     "exception": false,
     "start_time": "2021-07-29T09:17:43.045539",
     "status": "completed"
    },
    "tags": []
   },
   "outputs": [],
   "source": [
    "for data in train_test_data:\n",
    "    data['Embarked'] = data['Embarked'].fillna('S')"
   ]
  },
  {
   "cell_type": "code",
   "execution_count": 46,
   "id": "06326ae3",
   "metadata": {
    "execution": {
     "iopub.execute_input": "2021-07-29T09:17:43.402391Z",
     "iopub.status.busy": "2021-07-29T09:17:43.401664Z",
     "iopub.status.idle": "2021-07-29T09:17:43.405960Z",
     "shell.execute_reply": "2021-07-29T09:17:43.406696Z",
     "shell.execute_reply.started": "2021-07-29T09:15:50.130897Z"
    },
    "papermill": {
     "duration": 0.131682,
     "end_time": "2021-07-29T09:17:43.406881",
     "exception": false,
     "start_time": "2021-07-29T09:17:43.275199",
     "status": "completed"
    },
    "tags": []
   },
   "outputs": [
    {
     "data": {
      "text/html": [
       "<div>\n",
       "<style scoped>\n",
       "    .dataframe tbody tr th:only-of-type {\n",
       "        vertical-align: middle;\n",
       "    }\n",
       "\n",
       "    .dataframe tbody tr th {\n",
       "        vertical-align: top;\n",
       "    }\n",
       "\n",
       "    .dataframe thead th {\n",
       "        text-align: right;\n",
       "    }\n",
       "</style>\n",
       "<table border=\"1\" class=\"dataframe\">\n",
       "  <thead>\n",
       "    <tr style=\"text-align: right;\">\n",
       "      <th></th>\n",
       "      <th>PassengerId</th>\n",
       "      <th>Survived</th>\n",
       "      <th>Pclass</th>\n",
       "      <th>Sex</th>\n",
       "      <th>Age</th>\n",
       "      <th>SibSp</th>\n",
       "      <th>Parch</th>\n",
       "      <th>Ticket</th>\n",
       "      <th>Fare</th>\n",
       "      <th>Cabin</th>\n",
       "      <th>Embarked</th>\n",
       "      <th>Title</th>\n",
       "    </tr>\n",
       "  </thead>\n",
       "  <tbody>\n",
       "    <tr>\n",
       "      <th>0</th>\n",
       "      <td>1</td>\n",
       "      <td>0</td>\n",
       "      <td>3</td>\n",
       "      <td>0</td>\n",
       "      <td>22.0</td>\n",
       "      <td>1</td>\n",
       "      <td>0</td>\n",
       "      <td>A/5 21171</td>\n",
       "      <td>7.2500</td>\n",
       "      <td>NaN</td>\n",
       "      <td>S</td>\n",
       "      <td>0</td>\n",
       "    </tr>\n",
       "    <tr>\n",
       "      <th>1</th>\n",
       "      <td>2</td>\n",
       "      <td>1</td>\n",
       "      <td>1</td>\n",
       "      <td>1</td>\n",
       "      <td>38.0</td>\n",
       "      <td>1</td>\n",
       "      <td>0</td>\n",
       "      <td>PC 17599</td>\n",
       "      <td>71.2833</td>\n",
       "      <td>C85</td>\n",
       "      <td>C</td>\n",
       "      <td>2</td>\n",
       "    </tr>\n",
       "    <tr>\n",
       "      <th>2</th>\n",
       "      <td>3</td>\n",
       "      <td>1</td>\n",
       "      <td>3</td>\n",
       "      <td>1</td>\n",
       "      <td>26.0</td>\n",
       "      <td>0</td>\n",
       "      <td>0</td>\n",
       "      <td>STON/O2. 3101282</td>\n",
       "      <td>7.9250</td>\n",
       "      <td>NaN</td>\n",
       "      <td>S</td>\n",
       "      <td>1</td>\n",
       "    </tr>\n",
       "    <tr>\n",
       "      <th>3</th>\n",
       "      <td>4</td>\n",
       "      <td>1</td>\n",
       "      <td>1</td>\n",
       "      <td>1</td>\n",
       "      <td>35.0</td>\n",
       "      <td>1</td>\n",
       "      <td>0</td>\n",
       "      <td>113803</td>\n",
       "      <td>53.1000</td>\n",
       "      <td>C123</td>\n",
       "      <td>S</td>\n",
       "      <td>2</td>\n",
       "    </tr>\n",
       "    <tr>\n",
       "      <th>4</th>\n",
       "      <td>5</td>\n",
       "      <td>0</td>\n",
       "      <td>3</td>\n",
       "      <td>0</td>\n",
       "      <td>35.0</td>\n",
       "      <td>0</td>\n",
       "      <td>0</td>\n",
       "      <td>373450</td>\n",
       "      <td>8.0500</td>\n",
       "      <td>NaN</td>\n",
       "      <td>S</td>\n",
       "      <td>0</td>\n",
       "    </tr>\n",
       "  </tbody>\n",
       "</table>\n",
       "</div>"
      ],
      "text/plain": [
       "   PassengerId  Survived  Pclass  Sex   Age  SibSp  Parch            Ticket  \\\n",
       "0            1         0       3    0  22.0      1      0         A/5 21171   \n",
       "1            2         1       1    1  38.0      1      0          PC 17599   \n",
       "2            3         1       3    1  26.0      0      0  STON/O2. 3101282   \n",
       "3            4         1       1    1  35.0      1      0            113803   \n",
       "4            5         0       3    0  35.0      0      0            373450   \n",
       "\n",
       "      Fare Cabin Embarked  Title  \n",
       "0   7.2500   NaN        S      0  \n",
       "1  71.2833   C85        C      2  \n",
       "2   7.9250   NaN        S      1  \n",
       "3  53.1000  C123        S      2  \n",
       "4   8.0500   NaN        S      0  "
      ]
     },
     "execution_count": 46,
     "metadata": {},
     "output_type": "execute_result"
    }
   ],
   "source": [
    "train.head()"
   ]
  },
  {
   "cell_type": "code",
   "execution_count": 47,
   "id": "9bb476fb",
   "metadata": {
    "execution": {
     "iopub.execute_input": "2021-07-29T09:17:43.639651Z",
     "iopub.status.busy": "2021-07-29T09:17:43.638355Z",
     "iopub.status.idle": "2021-07-29T09:17:43.643680Z",
     "shell.execute_reply": "2021-07-29T09:17:43.643095Z",
     "shell.execute_reply.started": "2021-07-29T09:15:50.158589Z"
    },
    "papermill": {
     "duration": 0.129158,
     "end_time": "2021-07-29T09:17:43.643824",
     "exception": false,
     "start_time": "2021-07-29T09:17:43.514666",
     "status": "completed"
    },
    "tags": []
   },
   "outputs": [
    {
     "data": {
      "text/html": [
       "<div>\n",
       "<style scoped>\n",
       "    .dataframe tbody tr th:only-of-type {\n",
       "        vertical-align: middle;\n",
       "    }\n",
       "\n",
       "    .dataframe tbody tr th {\n",
       "        vertical-align: top;\n",
       "    }\n",
       "\n",
       "    .dataframe thead th {\n",
       "        text-align: right;\n",
       "    }\n",
       "</style>\n",
       "<table border=\"1\" class=\"dataframe\">\n",
       "  <thead>\n",
       "    <tr style=\"text-align: right;\">\n",
       "      <th></th>\n",
       "      <th>PassengerId</th>\n",
       "      <th>Pclass</th>\n",
       "      <th>Sex</th>\n",
       "      <th>Age</th>\n",
       "      <th>SibSp</th>\n",
       "      <th>Parch</th>\n",
       "      <th>Ticket</th>\n",
       "      <th>Fare</th>\n",
       "      <th>Cabin</th>\n",
       "      <th>Embarked</th>\n",
       "      <th>Title</th>\n",
       "    </tr>\n",
       "  </thead>\n",
       "  <tbody>\n",
       "    <tr>\n",
       "      <th>0</th>\n",
       "      <td>892</td>\n",
       "      <td>3</td>\n",
       "      <td>0</td>\n",
       "      <td>34.5</td>\n",
       "      <td>0</td>\n",
       "      <td>0</td>\n",
       "      <td>330911</td>\n",
       "      <td>7.8292</td>\n",
       "      <td>NaN</td>\n",
       "      <td>Q</td>\n",
       "      <td>0</td>\n",
       "    </tr>\n",
       "    <tr>\n",
       "      <th>1</th>\n",
       "      <td>893</td>\n",
       "      <td>3</td>\n",
       "      <td>1</td>\n",
       "      <td>47.0</td>\n",
       "      <td>1</td>\n",
       "      <td>0</td>\n",
       "      <td>363272</td>\n",
       "      <td>7.0000</td>\n",
       "      <td>NaN</td>\n",
       "      <td>S</td>\n",
       "      <td>2</td>\n",
       "    </tr>\n",
       "    <tr>\n",
       "      <th>2</th>\n",
       "      <td>894</td>\n",
       "      <td>2</td>\n",
       "      <td>0</td>\n",
       "      <td>62.0</td>\n",
       "      <td>0</td>\n",
       "      <td>0</td>\n",
       "      <td>240276</td>\n",
       "      <td>9.6875</td>\n",
       "      <td>NaN</td>\n",
       "      <td>Q</td>\n",
       "      <td>0</td>\n",
       "    </tr>\n",
       "    <tr>\n",
       "      <th>3</th>\n",
       "      <td>895</td>\n",
       "      <td>3</td>\n",
       "      <td>0</td>\n",
       "      <td>27.0</td>\n",
       "      <td>0</td>\n",
       "      <td>0</td>\n",
       "      <td>315154</td>\n",
       "      <td>8.6625</td>\n",
       "      <td>NaN</td>\n",
       "      <td>S</td>\n",
       "      <td>0</td>\n",
       "    </tr>\n",
       "    <tr>\n",
       "      <th>4</th>\n",
       "      <td>896</td>\n",
       "      <td>3</td>\n",
       "      <td>1</td>\n",
       "      <td>22.0</td>\n",
       "      <td>1</td>\n",
       "      <td>1</td>\n",
       "      <td>3101298</td>\n",
       "      <td>12.2875</td>\n",
       "      <td>NaN</td>\n",
       "      <td>S</td>\n",
       "      <td>2</td>\n",
       "    </tr>\n",
       "  </tbody>\n",
       "</table>\n",
       "</div>"
      ],
      "text/plain": [
       "   PassengerId  Pclass  Sex   Age  SibSp  Parch   Ticket     Fare Cabin  \\\n",
       "0          892       3    0  34.5      0      0   330911   7.8292   NaN   \n",
       "1          893       3    1  47.0      1      0   363272   7.0000   NaN   \n",
       "2          894       2    0  62.0      0      0   240276   9.6875   NaN   \n",
       "3          895       3    0  27.0      0      0   315154   8.6625   NaN   \n",
       "4          896       3    1  22.0      1      1  3101298  12.2875   NaN   \n",
       "\n",
       "  Embarked  Title  \n",
       "0        Q      0  \n",
       "1        S      2  \n",
       "2        Q      0  \n",
       "3        S      0  \n",
       "4        S      2  "
      ]
     },
     "execution_count": 47,
     "metadata": {},
     "output_type": "execute_result"
    }
   ],
   "source": [
    "test.head()"
   ]
  },
  {
   "cell_type": "code",
   "execution_count": 48,
   "id": "db470f96",
   "metadata": {
    "execution": {
     "iopub.execute_input": "2021-07-29T09:17:43.859202Z",
     "iopub.status.busy": "2021-07-29T09:17:43.858520Z",
     "iopub.status.idle": "2021-07-29T09:17:43.872354Z",
     "shell.execute_reply": "2021-07-29T09:17:43.872938Z",
     "shell.execute_reply.started": "2021-07-29T09:15:50.178000Z"
    },
    "papermill": {
     "duration": 0.123495,
     "end_time": "2021-07-29T09:17:43.873115",
     "exception": false,
     "start_time": "2021-07-29T09:17:43.749620",
     "status": "completed"
    },
    "tags": []
   },
   "outputs": [
    {
     "name": "stdout",
     "output_type": "stream",
     "text": [
      "<class 'pandas.core.frame.DataFrame'>\n",
      "RangeIndex: 891 entries, 0 to 890\n",
      "Data columns (total 12 columns):\n",
      " #   Column       Non-Null Count  Dtype  \n",
      "---  ------       --------------  -----  \n",
      " 0   PassengerId  891 non-null    int64  \n",
      " 1   Survived     891 non-null    int64  \n",
      " 2   Pclass       891 non-null    int64  \n",
      " 3   Sex          891 non-null    int64  \n",
      " 4   Age          891 non-null    float64\n",
      " 5   SibSp        891 non-null    int64  \n",
      " 6   Parch        891 non-null    int64  \n",
      " 7   Ticket       891 non-null    object \n",
      " 8   Fare         891 non-null    float64\n",
      " 9   Cabin        204 non-null    object \n",
      " 10  Embarked     891 non-null    object \n",
      " 11  Title        891 non-null    int64  \n",
      "dtypes: float64(2), int64(7), object(3)\n",
      "memory usage: 83.7+ KB\n"
     ]
    }
   ],
   "source": [
    "train.info()"
   ]
  },
  {
   "cell_type": "code",
   "execution_count": 49,
   "id": "a917d5cf",
   "metadata": {
    "execution": {
     "iopub.execute_input": "2021-07-29T09:17:44.090446Z",
     "iopub.status.busy": "2021-07-29T09:17:44.089770Z",
     "iopub.status.idle": "2021-07-29T09:17:44.105165Z",
     "shell.execute_reply": "2021-07-29T09:17:44.104571Z",
     "shell.execute_reply.started": "2021-07-29T09:15:50.201100Z"
    },
    "papermill": {
     "duration": 0.1236,
     "end_time": "2021-07-29T09:17:44.105314",
     "exception": false,
     "start_time": "2021-07-29T09:17:43.981714",
     "status": "completed"
    },
    "tags": []
   },
   "outputs": [
    {
     "name": "stdout",
     "output_type": "stream",
     "text": [
      "<class 'pandas.core.frame.DataFrame'>\n",
      "RangeIndex: 418 entries, 0 to 417\n",
      "Data columns (total 11 columns):\n",
      " #   Column       Non-Null Count  Dtype  \n",
      "---  ------       --------------  -----  \n",
      " 0   PassengerId  418 non-null    int64  \n",
      " 1   Pclass       418 non-null    int64  \n",
      " 2   Sex          418 non-null    int64  \n",
      " 3   Age          418 non-null    float64\n",
      " 4   SibSp        418 non-null    int64  \n",
      " 5   Parch        418 non-null    int64  \n",
      " 6   Ticket       418 non-null    object \n",
      " 7   Fare         417 non-null    float64\n",
      " 8   Cabin        91 non-null     object \n",
      " 9   Embarked     418 non-null    object \n",
      " 10  Title        418 non-null    int64  \n",
      "dtypes: float64(2), int64(6), object(3)\n",
      "memory usage: 36.0+ KB\n"
     ]
    }
   ],
   "source": [
    "test.info()"
   ]
  },
  {
   "cell_type": "code",
   "execution_count": 50,
   "id": "0fda904d",
   "metadata": {
    "execution": {
     "iopub.execute_input": "2021-07-29T09:17:44.326349Z",
     "iopub.status.busy": "2021-07-29T09:17:44.325649Z",
     "iopub.status.idle": "2021-07-29T09:17:44.328997Z",
     "shell.execute_reply": "2021-07-29T09:17:44.328418Z",
     "shell.execute_reply.started": "2021-07-29T09:15:50.226877Z"
    },
    "papermill": {
     "duration": 0.118443,
     "end_time": "2021-07-29T09:17:44.329150",
     "exception": false,
     "start_time": "2021-07-29T09:17:44.210707",
     "status": "completed"
    },
    "tags": []
   },
   "outputs": [],
   "source": [
    "embarked_mapping = {'S':0, 'C':1, 'Q':2}\n",
    "for data in train_test_data:\n",
    "    data['Embarked'] = data['Embarked'].map(embarked_mapping)"
   ]
  },
  {
   "cell_type": "markdown",
   "id": "7735d235",
   "metadata": {
    "papermill": {
     "duration": 0.104544,
     "end_time": "2021-07-29T09:17:44.539749",
     "exception": false,
     "start_time": "2021-07-29T09:17:44.435205",
     "status": "completed"
    },
    "tags": []
   },
   "source": [
    "### 5. Fare"
   ]
  },
  {
   "cell_type": "markdown",
   "id": "d0b4a223",
   "metadata": {
    "papermill": {
     "duration": 0.106881,
     "end_time": "2021-07-29T09:17:44.751609",
     "exception": false,
     "start_time": "2021-07-29T09:17:44.644728",
     "status": "completed"
    },
    "tags": []
   },
   "source": [
    "* Fill the missing value for Fare with the median fare for each Pclass."
   ]
  },
  {
   "cell_type": "code",
   "execution_count": 51,
   "id": "0eae16ea",
   "metadata": {
    "execution": {
     "iopub.execute_input": "2021-07-29T09:17:44.974566Z",
     "iopub.status.busy": "2021-07-29T09:17:44.973783Z",
     "iopub.status.idle": "2021-07-29T09:17:44.979667Z",
     "shell.execute_reply": "2021-07-29T09:17:44.979111Z",
     "shell.execute_reply.started": "2021-07-29T09:15:50.243648Z"
    },
    "papermill": {
     "duration": 0.121727,
     "end_time": "2021-07-29T09:17:44.979813",
     "exception": false,
     "start_time": "2021-07-29T09:17:44.858086",
     "status": "completed"
    },
    "tags": []
   },
   "outputs": [],
   "source": [
    "train['Fare'].fillna(train.groupby('Pclass')['Fare'].transform('median'), inplace=True)\n",
    "test['Fare'].fillna(test.groupby('Pclass')['Fare'].transform('median'), inplace=True)"
   ]
  },
  {
   "cell_type": "code",
   "execution_count": 52,
   "id": "45fe87ce",
   "metadata": {
    "execution": {
     "iopub.execute_input": "2021-07-29T09:17:45.218887Z",
     "iopub.status.busy": "2021-07-29T09:17:45.202017Z",
     "iopub.status.idle": "2021-07-29T09:17:45.679619Z",
     "shell.execute_reply": "2021-07-29T09:17:45.680135Z",
     "shell.execute_reply.started": "2021-07-29T09:15:50.257432Z"
    },
    "papermill": {
     "duration": 0.593557,
     "end_time": "2021-07-29T09:17:45.680337",
     "exception": false,
     "start_time": "2021-07-29T09:17:45.086780",
     "status": "completed"
    },
    "tags": []
   },
   "outputs": [
    {
     "data": {
      "image/png": "[encoded data removed]",
      "text/plain": [
       "<Figure size 925.55x216 with 1 Axes>"
      ]
     },
     "metadata": {},
     "output_type": "display_data"
    }
   ],
   "source": [
    "facet = sns.FacetGrid(train, hue='Survived',aspect=4)\n",
    "facet.map(sns.kdeplot,'Fare',shade=True)\n",
    "facet.set(xlim=(0, train['Fare'].max()))\n",
    "facet.add_legend()\n",
    "\n",
    "plt.show()"
   ]
  },
  {
   "cell_type": "code",
   "execution_count": 53,
   "id": "7c215d16",
   "metadata": {
    "execution": {
     "iopub.execute_input": "2021-07-29T09:17:45.898013Z",
     "iopub.status.busy": "2021-07-29T09:17:45.897250Z",
     "iopub.status.idle": "2021-07-29T09:17:46.445805Z",
     "shell.execute_reply": "2021-07-29T09:17:46.446333Z",
     "shell.execute_reply.started": "2021-07-29T09:15:50.798069Z"
    },
    "papermill": {
     "duration": 0.658637,
     "end_time": "2021-07-29T09:17:46.446524",
     "exception": false,
     "start_time": "2021-07-29T09:17:45.787887",
     "status": "completed"
    },
    "tags": []
   },
   "outputs": [
    {
     "data": {
      "text/plain": [
       "(0.0, 20.0)"
      ]
     },
     "execution_count": 53,
     "metadata": {},
     "output_type": "execute_result"
    },
    {
     "data": {
      "image/png": "[encoded data removed]",
      "text/plain": [
       "<Figure size 925.55x216 with 1 Axes>"
      ]
     },
     "metadata": {},
     "output_type": "display_data"
    }
   ],
   "source": [
    "facet = sns.FacetGrid(train, hue='Survived',aspect=4)\n",
    "facet.map(sns.kdeplot,'Fare',shade=True)\n",
    "facet.set(xlim=(0, train['Fare'].max()))\n",
    "facet.add_legend()\n",
    "\n",
    "plt.xlim(0,  20)"
   ]
  },
  {
   "cell_type": "code",
   "execution_count": 54,
   "id": "ad57fc26",
   "metadata": {
    "execution": {
     "iopub.execute_input": "2021-07-29T09:17:46.667213Z",
     "iopub.status.busy": "2021-07-29T09:17:46.666274Z",
     "iopub.status.idle": "2021-07-29T09:17:47.206207Z",
     "shell.execute_reply": "2021-07-29T09:17:47.205452Z",
     "shell.execute_reply.started": "2021-07-29T09:15:51.435164Z"
    },
    "papermill": {
     "duration": 0.651582,
     "end_time": "2021-07-29T09:17:47.206351",
     "exception": false,
     "start_time": "2021-07-29T09:17:46.554769",
     "status": "completed"
    },
    "tags": []
   },
   "outputs": [
    {
     "data": {
      "text/plain": [
       "(0.0, 30.0)"
      ]
     },
     "execution_count": 54,
     "metadata": {},
     "output_type": "execute_result"
    },
    {
     "data": {
      "image/png": "[encoded data removed]",
      "text/plain": [
       "<Figure size 925.55x216 with 1 Axes>"
      ]
     },
     "metadata": {},
     "output_type": "display_data"
    }
   ],
   "source": [
    "facet = sns.FacetGrid(train, hue='Survived',aspect=4)\n",
    "facet.map(sns.kdeplot,'Fare',shade=True)\n",
    "facet.set(xlim=(0, train['Fare'].max()))\n",
    "facet.add_legend()\n",
    "\n",
    "plt.xlim(0, 30)"
   ]
  },
  {
   "cell_type": "code",
   "execution_count": 55,
   "id": "9a82afaf",
   "metadata": {
    "execution": {
     "iopub.execute_input": "2021-07-29T09:17:47.467961Z",
     "iopub.status.busy": "2021-07-29T09:17:47.457980Z",
     "iopub.status.idle": "2021-07-29T09:17:47.955587Z",
     "shell.execute_reply": "2021-07-29T09:17:47.955012Z",
     "shell.execute_reply.started": "2021-07-29T09:15:52.017746Z"
    },
    "papermill": {
     "duration": 0.637634,
     "end_time": "2021-07-29T09:17:47.955731",
     "exception": false,
     "start_time": "2021-07-29T09:17:47.318097",
     "status": "completed"
    },
    "tags": []
   },
   "outputs": [
    {
     "data": {
      "text/plain": [
       "(0.0, 512.3292)"
      ]
     },
     "execution_count": 55,
     "metadata": {},
     "output_type": "execute_result"
    },
    {
     "data": {
      "image/png": "[encoded data removed]",
      "text/plain": [
       "<Figure size 925.55x216 with 1 Axes>"
      ]
     },
     "metadata": {},
     "output_type": "display_data"
    }
   ],
   "source": [
    "facet = sns.FacetGrid(train, hue='Survived',aspect=4)\n",
    "facet.map(sns.kdeplot,'Fare',shade=True)\n",
    "facet.set(xlim=(0, train['Fare'].max()))\n",
    "facet.add_legend()\n",
    "\n",
    "plt.xlim(0)"
   ]
  },
  {
   "cell_type": "code",
   "execution_count": 56,
   "id": "7684534d",
   "metadata": {
    "execution": {
     "iopub.execute_input": "2021-07-29T09:17:48.189897Z",
     "iopub.status.busy": "2021-07-29T09:17:48.184170Z",
     "iopub.status.idle": "2021-07-29T09:17:48.193254Z",
     "shell.execute_reply": "2021-07-29T09:17:48.192671Z",
     "shell.execute_reply.started": "2021-07-29T09:15:52.605046Z"
    },
    "papermill": {
     "duration": 0.127756,
     "end_time": "2021-07-29T09:17:48.193393",
     "exception": false,
     "start_time": "2021-07-29T09:17:48.065637",
     "status": "completed"
    },
    "tags": []
   },
   "outputs": [],
   "source": [
    "for data in train_test_data:\n",
    "    data.loc[data['Fare'] <= 17, 'Fare'] = 0\n",
    "    data.loc[(data['Fare'] > 17) & (data['Fare'] <= 30), 'Fare'] = 1\n",
    "    data.loc[(data['Fare'] > 30) & (data['Fare'] <= 100), 'Fare'] = 2\n",
    "    data.loc[data['Fare'] > 100, 'Fare'] = 3"
   ]
  },
  {
   "cell_type": "code",
   "execution_count": 57,
   "id": "38a0b912",
   "metadata": {
    "execution": {
     "iopub.execute_input": "2021-07-29T09:17:48.431429Z",
     "iopub.status.busy": "2021-07-29T09:17:48.430382Z",
     "iopub.status.idle": "2021-07-29T09:17:48.435304Z",
     "shell.execute_reply": "2021-07-29T09:17:48.434650Z",
     "shell.execute_reply.started": "2021-07-29T09:15:52.624004Z"
    },
    "papermill": {
     "duration": 0.131063,
     "end_time": "2021-07-29T09:17:48.435461",
     "exception": false,
     "start_time": "2021-07-29T09:17:48.304398",
     "status": "completed"
    },
    "tags": []
   },
   "outputs": [
    {
     "data": {
      "text/html": [
       "<div>\n",
       "<style scoped>\n",
       "    .dataframe tbody tr th:only-of-type {\n",
       "        vertical-align: middle;\n",
       "    }\n",
       "\n",
       "    .dataframe tbody tr th {\n",
       "        vertical-align: top;\n",
       "    }\n",
       "\n",
       "    .dataframe thead th {\n",
       "        text-align: right;\n",
       "    }\n",
       "</style>\n",
       "<table border=\"1\" class=\"dataframe\">\n",
       "  <thead>\n",
       "    <tr style=\"text-align: right;\">\n",
       "      <th></th>\n",
       "      <th>PassengerId</th>\n",
       "      <th>Survived</th>\n",
       "      <th>Pclass</th>\n",
       "      <th>Sex</th>\n",
       "      <th>Age</th>\n",
       "      <th>SibSp</th>\n",
       "      <th>Parch</th>\n",
       "      <th>Ticket</th>\n",
       "      <th>Fare</th>\n",
       "      <th>Cabin</th>\n",
       "      <th>Embarked</th>\n",
       "      <th>Title</th>\n",
       "    </tr>\n",
       "  </thead>\n",
       "  <tbody>\n",
       "    <tr>\n",
       "      <th>0</th>\n",
       "      <td>1</td>\n",
       "      <td>0</td>\n",
       "      <td>3</td>\n",
       "      <td>0</td>\n",
       "      <td>22.0</td>\n",
       "      <td>1</td>\n",
       "      <td>0</td>\n",
       "      <td>A/5 21171</td>\n",
       "      <td>0.0</td>\n",
       "      <td>NaN</td>\n",
       "      <td>0</td>\n",
       "      <td>0</td>\n",
       "    </tr>\n",
       "    <tr>\n",
       "      <th>1</th>\n",
       "      <td>2</td>\n",
       "      <td>1</td>\n",
       "      <td>1</td>\n",
       "      <td>1</td>\n",
       "      <td>38.0</td>\n",
       "      <td>1</td>\n",
       "      <td>0</td>\n",
       "      <td>PC 17599</td>\n",
       "      <td>2.0</td>\n",
       "      <td>C85</td>\n",
       "      <td>1</td>\n",
       "      <td>2</td>\n",
       "    </tr>\n",
       "    <tr>\n",
       "      <th>2</th>\n",
       "      <td>3</td>\n",
       "      <td>1</td>\n",
       "      <td>3</td>\n",
       "      <td>1</td>\n",
       "      <td>26.0</td>\n",
       "      <td>0</td>\n",
       "      <td>0</td>\n",
       "      <td>STON/O2. 3101282</td>\n",
       "      <td>0.0</td>\n",
       "      <td>NaN</td>\n",
       "      <td>0</td>\n",
       "      <td>1</td>\n",
       "    </tr>\n",
       "    <tr>\n",
       "      <th>3</th>\n",
       "      <td>4</td>\n",
       "      <td>1</td>\n",
       "      <td>1</td>\n",
       "      <td>1</td>\n",
       "      <td>35.0</td>\n",
       "      <td>1</td>\n",
       "      <td>0</td>\n",
       "      <td>113803</td>\n",
       "      <td>2.0</td>\n",
       "      <td>C123</td>\n",
       "      <td>0</td>\n",
       "      <td>2</td>\n",
       "    </tr>\n",
       "    <tr>\n",
       "      <th>4</th>\n",
       "      <td>5</td>\n",
       "      <td>0</td>\n",
       "      <td>3</td>\n",
       "      <td>0</td>\n",
       "      <td>35.0</td>\n",
       "      <td>0</td>\n",
       "      <td>0</td>\n",
       "      <td>373450</td>\n",
       "      <td>0.0</td>\n",
       "      <td>NaN</td>\n",
       "      <td>0</td>\n",
       "      <td>0</td>\n",
       "    </tr>\n",
       "  </tbody>\n",
       "</table>\n",
       "</div>"
      ],
      "text/plain": [
       "   PassengerId  Survived  Pclass  Sex   Age  SibSp  Parch            Ticket  \\\n",
       "0            1         0       3    0  22.0      1      0         A/5 21171   \n",
       "1            2         1       1    1  38.0      1      0          PC 17599   \n",
       "2            3         1       3    1  26.0      0      0  STON/O2. 3101282   \n",
       "3            4         1       1    1  35.0      1      0            113803   \n",
       "4            5         0       3    0  35.0      0      0            373450   \n",
       "\n",
       "   Fare Cabin  Embarked  Title  \n",
       "0   0.0   NaN         0      0  \n",
       "1   2.0   C85         1      2  \n",
       "2   0.0   NaN         0      1  \n",
       "3   2.0  C123         0      2  \n",
       "4   0.0   NaN         0      0  "
      ]
     },
     "execution_count": 57,
     "metadata": {},
     "output_type": "execute_result"
    }
   ],
   "source": [
    "train.head()"
   ]
  },
  {
   "cell_type": "markdown",
   "id": "9f44e979",
   "metadata": {
    "papermill": {
     "duration": 0.110345,
     "end_time": "2021-07-29T09:17:48.656071",
     "exception": false,
     "start_time": "2021-07-29T09:17:48.545726",
     "status": "completed"
    },
    "tags": []
   },
   "source": [
    "### 6. Cabin"
   ]
  },
  {
   "cell_type": "code",
   "execution_count": 58,
   "id": "f828d917",
   "metadata": {
    "execution": {
     "iopub.execute_input": "2021-07-29T09:17:48.892244Z",
     "iopub.status.busy": "2021-07-29T09:17:48.891514Z",
     "iopub.status.idle": "2021-07-29T09:17:48.896098Z",
     "shell.execute_reply": "2021-07-29T09:17:48.895577Z",
     "shell.execute_reply.started": "2021-07-29T09:15:52.649389Z"
    },
    "papermill": {
     "duration": 0.124019,
     "end_time": "2021-07-29T09:17:48.896240",
     "exception": false,
     "start_time": "2021-07-29T09:17:48.772221",
     "status": "completed"
    },
    "tags": []
   },
   "outputs": [
    {
     "data": {
      "text/plain": [
       "G6             4\n",
       "C23 C25 C27    4\n",
       "B96 B98        4\n",
       "E101           3\n",
       "F2             3\n",
       "              ..\n",
       "C99            1\n",
       "D7             1\n",
       "D9             1\n",
       "C111           1\n",
       "D50            1\n",
       "Name: Cabin, Length: 147, dtype: int64"
      ]
     },
     "execution_count": 58,
     "metadata": {},
     "output_type": "execute_result"
    }
   ],
   "source": [
    "train.Cabin.value_counts()"
   ]
  },
  {
   "cell_type": "code",
   "execution_count": 59,
   "id": "aa0557c9",
   "metadata": {
    "execution": {
     "iopub.execute_input": "2021-07-29T09:17:49.128561Z",
     "iopub.status.busy": "2021-07-29T09:17:49.127469Z",
     "iopub.status.idle": "2021-07-29T09:17:49.131130Z",
     "shell.execute_reply": "2021-07-29T09:17:49.130427Z",
     "shell.execute_reply.started": "2021-07-29T09:15:52.668504Z"
    },
    "papermill": {
     "duration": 0.122587,
     "end_time": "2021-07-29T09:17:49.131276",
     "exception": false,
     "start_time": "2021-07-29T09:17:49.008689",
     "status": "completed"
    },
    "tags": []
   },
   "outputs": [],
   "source": [
    "for data in train_test_data:\n",
    "    data['Cabin'] = data['Cabin'].str[:1]"
   ]
  },
  {
   "cell_type": "code",
   "execution_count": 60,
   "id": "fa960d7a",
   "metadata": {
    "execution": {
     "iopub.execute_input": "2021-07-29T09:17:49.397339Z",
     "iopub.status.busy": "2021-07-29T09:17:49.362613Z",
     "iopub.status.idle": "2021-07-29T09:17:49.668326Z",
     "shell.execute_reply": "2021-07-29T09:17:49.667766Z",
     "shell.execute_reply.started": "2021-07-29T09:15:52.687558Z"
    },
    "papermill": {
     "duration": 0.426493,
     "end_time": "2021-07-29T09:17:49.668466",
     "exception": false,
     "start_time": "2021-07-29T09:17:49.241973",
     "status": "completed"
    },
    "tags": []
   },
   "outputs": [
    {
     "data": {
      "text/plain": [
       "<AxesSubplot:>"
      ]
     },
     "execution_count": 60,
     "metadata": {},
     "output_type": "execute_result"
    },
    {
     "data": {
      "image/png": "[encoded data removed]",
      "text/plain": [
       "<Figure size 720x360 with 1 Axes>"
      ]
     },
     "metadata": {},
     "output_type": "display_data"
    }
   ],
   "source": [
    "Pclass1 = train[train['Pclass']==1]['Cabin'].value_counts()\n",
    "Pclass2 = train[train['Pclass']==2]['Cabin'].value_counts()\n",
    "Pclass3 = train[train['Pclass']==3]['Cabin'].value_counts()\n",
    "df = pd.DataFrame([Pclass1, Pclass2, Pclass3])\n",
    "df.index = ['Íst Class', '2nd Class', '3rd Class']\n",
    "df.plot(kind='bar', stacked=False, figsize=(10,5))"
   ]
  },
  {
   "cell_type": "code",
   "execution_count": 61,
   "id": "c0f87388",
   "metadata": {
    "execution": {
     "iopub.execute_input": "2021-07-29T09:17:49.903084Z",
     "iopub.status.busy": "2021-07-29T09:17:49.902095Z",
     "iopub.status.idle": "2021-07-29T09:17:49.905439Z",
     "shell.execute_reply": "2021-07-29T09:17:49.904832Z",
     "shell.execute_reply.started": "2021-07-29T09:15:53.043097Z"
    },
    "papermill": {
     "duration": 0.124851,
     "end_time": "2021-07-29T09:17:49.905604",
     "exception": false,
     "start_time": "2021-07-29T09:17:49.780753",
     "status": "completed"
    },
    "tags": []
   },
   "outputs": [],
   "source": [
    "cabin_mapping = {'A':0, 'B': 0.4, 'C': 0.8, 'D': 1.2, 'E': 1.6, 'F': 2, 'G': 2.4, 'T': 2.8}\n",
    "for data in train_test_data:\n",
    "    data['Cabin'] = data['Cabin'].map(cabin_mapping)"
   ]
  },
  {
   "cell_type": "code",
   "execution_count": 62,
   "id": "41e3c6c4",
   "metadata": {
    "execution": {
     "iopub.execute_input": "2021-07-29T09:17:50.145575Z",
     "iopub.status.busy": "2021-07-29T09:17:50.144803Z",
     "iopub.status.idle": "2021-07-29T09:17:50.148695Z",
     "shell.execute_reply": "2021-07-29T09:17:50.148092Z",
     "shell.execute_reply.started": "2021-07-29T09:15:53.054229Z"
    },
    "papermill": {
     "duration": 0.129411,
     "end_time": "2021-07-29T09:17:50.148844",
     "exception": false,
     "start_time": "2021-07-29T09:17:50.019433",
     "status": "completed"
    },
    "tags": []
   },
   "outputs": [],
   "source": [
    "train['Cabin'].fillna(train.groupby('Pclass')['Cabin'].transform('median'), inplace=True)\n",
    "test['Cabin'].fillna(test.groupby('Pclass')['Cabin'].transform('median'), inplace=True)"
   ]
  },
  {
   "cell_type": "markdown",
   "id": "7cdd23bc",
   "metadata": {
    "papermill": {
     "duration": 0.13411,
     "end_time": "2021-07-29T09:17:50.424005",
     "exception": false,
     "start_time": "2021-07-29T09:17:50.289895",
     "status": "completed"
    },
    "tags": []
   },
   "source": [
    "### 7. FamilySize"
   ]
  },
  {
   "cell_type": "code",
   "execution_count": 63,
   "id": "a52e7aa2",
   "metadata": {
    "execution": {
     "iopub.execute_input": "2021-07-29T09:17:50.680305Z",
     "iopub.status.busy": "2021-07-29T09:17:50.679606Z",
     "iopub.status.idle": "2021-07-29T09:17:50.682991Z",
     "shell.execute_reply": "2021-07-29T09:17:50.682423Z",
     "shell.execute_reply.started": "2021-07-29T09:15:53.070474Z"
    },
    "papermill": {
     "duration": 0.125163,
     "end_time": "2021-07-29T09:17:50.683130",
     "exception": false,
     "start_time": "2021-07-29T09:17:50.557967",
     "status": "completed"
    },
    "tags": []
   },
   "outputs": [],
   "source": [
    "train['FamilySize'] = train['SibSp'] + train['Parch'] + 1\n",
    "test['FamilySize'] = test['SibSp'] + test['Parch'] + 1"
   ]
  },
  {
   "cell_type": "code",
   "execution_count": 64,
   "id": "9474696b",
   "metadata": {
    "execution": {
     "iopub.execute_input": "2021-07-29T09:17:50.938764Z",
     "iopub.status.busy": "2021-07-29T09:17:50.916545Z",
     "iopub.status.idle": "2021-07-29T09:17:51.447070Z",
     "shell.execute_reply": "2021-07-29T09:17:51.446384Z",
     "shell.execute_reply.started": "2021-07-29T09:15:53.086212Z"
    },
    "papermill": {
     "duration": 0.651358,
     "end_time": "2021-07-29T09:17:51.447210",
     "exception": false,
     "start_time": "2021-07-29T09:17:50.795852",
     "status": "completed"
    },
    "tags": []
   },
   "outputs": [
    {
     "data": {
      "text/plain": [
       "(0.0, 11.0)"
      ]
     },
     "execution_count": 64,
     "metadata": {},
     "output_type": "execute_result"
    },
    {
     "data": {
      "image/png": "[encoded data removed]",
      "text/plain": [
       "<Figure size 925.55x216 with 1 Axes>"
      ]
     },
     "metadata": {},
     "output_type": "display_data"
    }
   ],
   "source": [
    "facet = sns.FacetGrid(train, hue='Survived',aspect=4)\n",
    "facet.map(sns.kdeplot,'FamilySize',shade=True)\n",
    "facet.set(xlim=(0, train['FamilySize'].max()))\n",
    "facet.add_legend()\n",
    "\n",
    "plt.xlim(0)"
   ]
  },
  {
   "cell_type": "code",
   "execution_count": 65,
   "id": "59028f4c",
   "metadata": {
    "execution": {
     "iopub.execute_input": "2021-07-29T09:17:51.684934Z",
     "iopub.status.busy": "2021-07-29T09:17:51.684186Z",
     "iopub.status.idle": "2021-07-29T09:17:51.686424Z",
     "shell.execute_reply": "2021-07-29T09:17:51.687039Z",
     "shell.execute_reply.started": "2021-07-29T09:15:53.707311Z"
    },
    "papermill": {
     "duration": 0.125669,
     "end_time": "2021-07-29T09:17:51.687249",
     "exception": false,
     "start_time": "2021-07-29T09:17:51.561580",
     "status": "completed"
    },
    "tags": []
   },
   "outputs": [],
   "source": [
    "family_mapping = {1:0, 2:0.4, 3:0.8, 4:1.2, 5:1.6, 6:2, 7:2.4, 8:2.8, 9:3.2, 10:3.6, 11:4}\n",
    "for data in train_test_data:\n",
    "    data['FamilySize'] = data['FamilySize'].map(family_mapping)"
   ]
  },
  {
   "cell_type": "code",
   "execution_count": 66,
   "id": "a8eaf3a7",
   "metadata": {
    "execution": {
     "iopub.execute_input": "2021-07-29T09:17:51.921716Z",
     "iopub.status.busy": "2021-07-29T09:17:51.921023Z",
     "iopub.status.idle": "2021-07-29T09:17:51.938761Z",
     "shell.execute_reply": "2021-07-29T09:17:51.939538Z",
     "shell.execute_reply.started": "2021-07-29T09:15:53.720691Z"
    },
    "papermill": {
     "duration": 0.137365,
     "end_time": "2021-07-29T09:17:51.939742",
     "exception": false,
     "start_time": "2021-07-29T09:17:51.802377",
     "status": "completed"
    },
    "tags": []
   },
   "outputs": [
    {
     "data": {
      "text/html": [
       "<div>\n",
       "<style scoped>\n",
       "    .dataframe tbody tr th:only-of-type {\n",
       "        vertical-align: middle;\n",
       "    }\n",
       "\n",
       "    .dataframe tbody tr th {\n",
       "        vertical-align: top;\n",
       "    }\n",
       "\n",
       "    .dataframe thead th {\n",
       "        text-align: right;\n",
       "    }\n",
       "</style>\n",
       "<table border=\"1\" class=\"dataframe\">\n",
       "  <thead>\n",
       "    <tr style=\"text-align: right;\">\n",
       "      <th></th>\n",
       "      <th>PassengerId</th>\n",
       "      <th>Survived</th>\n",
       "      <th>Pclass</th>\n",
       "      <th>Sex</th>\n",
       "      <th>Age</th>\n",
       "      <th>SibSp</th>\n",
       "      <th>Parch</th>\n",
       "      <th>Ticket</th>\n",
       "      <th>Fare</th>\n",
       "      <th>Cabin</th>\n",
       "      <th>Embarked</th>\n",
       "      <th>Title</th>\n",
       "      <th>FamilySize</th>\n",
       "    </tr>\n",
       "  </thead>\n",
       "  <tbody>\n",
       "    <tr>\n",
       "      <th>0</th>\n",
       "      <td>1</td>\n",
       "      <td>0</td>\n",
       "      <td>3</td>\n",
       "      <td>0</td>\n",
       "      <td>22.0</td>\n",
       "      <td>1</td>\n",
       "      <td>0</td>\n",
       "      <td>A/5 21171</td>\n",
       "      <td>0.0</td>\n",
       "      <td>2.0</td>\n",
       "      <td>0</td>\n",
       "      <td>0</td>\n",
       "      <td>0.4</td>\n",
       "    </tr>\n",
       "    <tr>\n",
       "      <th>1</th>\n",
       "      <td>2</td>\n",
       "      <td>1</td>\n",
       "      <td>1</td>\n",
       "      <td>1</td>\n",
       "      <td>38.0</td>\n",
       "      <td>1</td>\n",
       "      <td>0</td>\n",
       "      <td>PC 17599</td>\n",
       "      <td>2.0</td>\n",
       "      <td>0.8</td>\n",
       "      <td>1</td>\n",
       "      <td>2</td>\n",
       "      <td>0.4</td>\n",
       "    </tr>\n",
       "    <tr>\n",
       "      <th>2</th>\n",
       "      <td>3</td>\n",
       "      <td>1</td>\n",
       "      <td>3</td>\n",
       "      <td>1</td>\n",
       "      <td>26.0</td>\n",
       "      <td>0</td>\n",
       "      <td>0</td>\n",
       "      <td>STON/O2. 3101282</td>\n",
       "      <td>0.0</td>\n",
       "      <td>2.0</td>\n",
       "      <td>0</td>\n",
       "      <td>1</td>\n",
       "      <td>0.0</td>\n",
       "    </tr>\n",
       "    <tr>\n",
       "      <th>3</th>\n",
       "      <td>4</td>\n",
       "      <td>1</td>\n",
       "      <td>1</td>\n",
       "      <td>1</td>\n",
       "      <td>35.0</td>\n",
       "      <td>1</td>\n",
       "      <td>0</td>\n",
       "      <td>113803</td>\n",
       "      <td>2.0</td>\n",
       "      <td>0.8</td>\n",
       "      <td>0</td>\n",
       "      <td>2</td>\n",
       "      <td>0.4</td>\n",
       "    </tr>\n",
       "    <tr>\n",
       "      <th>4</th>\n",
       "      <td>5</td>\n",
       "      <td>0</td>\n",
       "      <td>3</td>\n",
       "      <td>0</td>\n",
       "      <td>35.0</td>\n",
       "      <td>0</td>\n",
       "      <td>0</td>\n",
       "      <td>373450</td>\n",
       "      <td>0.0</td>\n",
       "      <td>2.0</td>\n",
       "      <td>0</td>\n",
       "      <td>0</td>\n",
       "      <td>0.0</td>\n",
       "    </tr>\n",
       "  </tbody>\n",
       "</table>\n",
       "</div>"
      ],
      "text/plain": [
       "   PassengerId  Survived  Pclass  Sex   Age  SibSp  Parch            Ticket  \\\n",
       "0            1         0       3    0  22.0      1      0         A/5 21171   \n",
       "1            2         1       1    1  38.0      1      0          PC 17599   \n",
       "2            3         1       3    1  26.0      0      0  STON/O2. 3101282   \n",
       "3            4         1       1    1  35.0      1      0            113803   \n",
       "4            5         0       3    0  35.0      0      0            373450   \n",
       "\n",
       "   Fare  Cabin  Embarked  Title  FamilySize  \n",
       "0   0.0    2.0         0      0         0.4  \n",
       "1   2.0    0.8         1      2         0.4  \n",
       "2   0.0    2.0         0      1         0.0  \n",
       "3   2.0    0.8         0      2         0.4  \n",
       "4   0.0    2.0         0      0         0.0  "
      ]
     },
     "execution_count": 66,
     "metadata": {},
     "output_type": "execute_result"
    }
   ],
   "source": [
    "train.head()"
   ]
  },
  {
   "cell_type": "code",
   "execution_count": 67,
   "id": "0fb98a48",
   "metadata": {
    "execution": {
     "iopub.execute_input": "2021-07-29T09:17:52.176681Z",
     "iopub.status.busy": "2021-07-29T09:17:52.175928Z",
     "iopub.status.idle": "2021-07-29T09:17:52.192743Z",
     "shell.execute_reply": "2021-07-29T09:17:52.193249Z",
     "shell.execute_reply.started": "2021-07-29T09:15:53.753279Z"
    },
    "papermill": {
     "duration": 0.135654,
     "end_time": "2021-07-29T09:17:52.193557",
     "exception": false,
     "start_time": "2021-07-29T09:17:52.057903",
     "status": "completed"
    },
    "tags": []
   },
   "outputs": [
    {
     "data": {
      "text/html": [
       "<div>\n",
       "<style scoped>\n",
       "    .dataframe tbody tr th:only-of-type {\n",
       "        vertical-align: middle;\n",
       "    }\n",
       "\n",
       "    .dataframe tbody tr th {\n",
       "        vertical-align: top;\n",
       "    }\n",
       "\n",
       "    .dataframe thead th {\n",
       "        text-align: right;\n",
       "    }\n",
       "</style>\n",
       "<table border=\"1\" class=\"dataframe\">\n",
       "  <thead>\n",
       "    <tr style=\"text-align: right;\">\n",
       "      <th></th>\n",
       "      <th>PassengerId</th>\n",
       "      <th>Pclass</th>\n",
       "      <th>Sex</th>\n",
       "      <th>Age</th>\n",
       "      <th>SibSp</th>\n",
       "      <th>Parch</th>\n",
       "      <th>Ticket</th>\n",
       "      <th>Fare</th>\n",
       "      <th>Cabin</th>\n",
       "      <th>Embarked</th>\n",
       "      <th>Title</th>\n",
       "      <th>FamilySize</th>\n",
       "    </tr>\n",
       "  </thead>\n",
       "  <tbody>\n",
       "    <tr>\n",
       "      <th>0</th>\n",
       "      <td>892</td>\n",
       "      <td>3</td>\n",
       "      <td>0</td>\n",
       "      <td>34.5</td>\n",
       "      <td>0</td>\n",
       "      <td>0</td>\n",
       "      <td>330911</td>\n",
       "      <td>0.0</td>\n",
       "      <td>2.0</td>\n",
       "      <td>2</td>\n",
       "      <td>0</td>\n",
       "      <td>0.0</td>\n",
       "    </tr>\n",
       "    <tr>\n",
       "      <th>1</th>\n",
       "      <td>893</td>\n",
       "      <td>3</td>\n",
       "      <td>1</td>\n",
       "      <td>47.0</td>\n",
       "      <td>1</td>\n",
       "      <td>0</td>\n",
       "      <td>363272</td>\n",
       "      <td>0.0</td>\n",
       "      <td>2.0</td>\n",
       "      <td>0</td>\n",
       "      <td>2</td>\n",
       "      <td>0.4</td>\n",
       "    </tr>\n",
       "    <tr>\n",
       "      <th>2</th>\n",
       "      <td>894</td>\n",
       "      <td>2</td>\n",
       "      <td>0</td>\n",
       "      <td>62.0</td>\n",
       "      <td>0</td>\n",
       "      <td>0</td>\n",
       "      <td>240276</td>\n",
       "      <td>0.0</td>\n",
       "      <td>2.0</td>\n",
       "      <td>2</td>\n",
       "      <td>0</td>\n",
       "      <td>0.0</td>\n",
       "    </tr>\n",
       "    <tr>\n",
       "      <th>3</th>\n",
       "      <td>895</td>\n",
       "      <td>3</td>\n",
       "      <td>0</td>\n",
       "      <td>27.0</td>\n",
       "      <td>0</td>\n",
       "      <td>0</td>\n",
       "      <td>315154</td>\n",
       "      <td>0.0</td>\n",
       "      <td>2.0</td>\n",
       "      <td>0</td>\n",
       "      <td>0</td>\n",
       "      <td>0.0</td>\n",
       "    </tr>\n",
       "    <tr>\n",
       "      <th>4</th>\n",
       "      <td>896</td>\n",
       "      <td>3</td>\n",
       "      <td>1</td>\n",
       "      <td>22.0</td>\n",
       "      <td>1</td>\n",
       "      <td>1</td>\n",
       "      <td>3101298</td>\n",
       "      <td>0.0</td>\n",
       "      <td>2.0</td>\n",
       "      <td>0</td>\n",
       "      <td>2</td>\n",
       "      <td>0.8</td>\n",
       "    </tr>\n",
       "  </tbody>\n",
       "</table>\n",
       "</div>"
      ],
      "text/plain": [
       "   PassengerId  Pclass  Sex   Age  SibSp  Parch   Ticket  Fare  Cabin  \\\n",
       "0          892       3    0  34.5      0      0   330911   0.0    2.0   \n",
       "1          893       3    1  47.0      1      0   363272   0.0    2.0   \n",
       "2          894       2    0  62.0      0      0   240276   0.0    2.0   \n",
       "3          895       3    0  27.0      0      0   315154   0.0    2.0   \n",
       "4          896       3    1  22.0      1      1  3101298   0.0    2.0   \n",
       "\n",
       "   Embarked  Title  FamilySize  \n",
       "0         2      0         0.0  \n",
       "1         0      2         0.4  \n",
       "2         2      0         0.0  \n",
       "3         0      0         0.0  \n",
       "4         0      2         0.8  "
      ]
     },
     "execution_count": 67,
     "metadata": {},
     "output_type": "execute_result"
    }
   ],
   "source": [
    "test.head()"
   ]
  },
  {
   "cell_type": "code",
   "execution_count": 68,
   "id": "3840dfcf",
   "metadata": {
    "execution": {
     "iopub.execute_input": "2021-07-29T09:17:52.430124Z",
     "iopub.status.busy": "2021-07-29T09:17:52.429056Z",
     "iopub.status.idle": "2021-07-29T09:17:52.438186Z",
     "shell.execute_reply": "2021-07-29T09:17:52.438721Z",
     "shell.execute_reply.started": "2021-07-29T09:15:53.783597Z"
    },
    "papermill": {
     "duration": 0.128313,
     "end_time": "2021-07-29T09:17:52.438934",
     "exception": false,
     "start_time": "2021-07-29T09:17:52.310621",
     "status": "completed"
    },
    "tags": []
   },
   "outputs": [],
   "source": [
    "features_drop = ['Ticket', 'SibSp', 'Parch']\n",
    "train = train.drop(features_drop, axis=1)\n",
    "test = test.drop(features_drop, axis=1)\n",
    "train = train.drop('PassengerId', axis=1)"
   ]
  },
  {
   "cell_type": "code",
   "execution_count": 69,
   "id": "dd383197",
   "metadata": {
    "execution": {
     "iopub.execute_input": "2021-07-29T09:17:52.674752Z",
     "iopub.status.busy": "2021-07-29T09:17:52.673677Z",
     "iopub.status.idle": "2021-07-29T09:17:52.684898Z",
     "shell.execute_reply": "2021-07-29T09:17:52.684268Z",
     "shell.execute_reply.started": "2021-07-29T09:15:53.799683Z"
    },
    "papermill": {
     "duration": 0.131237,
     "end_time": "2021-07-29T09:17:52.685083",
     "exception": false,
     "start_time": "2021-07-29T09:17:52.553846",
     "status": "completed"
    },
    "tags": []
   },
   "outputs": [
    {
     "data": {
      "text/plain": [
       "((891, 8), (891,))"
      ]
     },
     "execution_count": 69,
     "metadata": {},
     "output_type": "execute_result"
    }
   ],
   "source": [
    "train_data = train.drop('Survived', axis=1)\n",
    "target = train['Survived']\n",
    "\n",
    "train_data.shape, target.shape"
   ]
  },
  {
   "cell_type": "code",
   "execution_count": 70,
   "id": "6b923da9",
   "metadata": {
    "execution": {
     "iopub.execute_input": "2021-07-29T09:17:52.934457Z",
     "iopub.status.busy": "2021-07-29T09:17:52.933534Z",
     "iopub.status.idle": "2021-07-29T09:17:52.937099Z",
     "shell.execute_reply": "2021-07-29T09:17:52.937715Z",
     "shell.execute_reply.started": "2021-07-29T09:15:53.812228Z"
    },
    "papermill": {
     "duration": 0.135133,
     "end_time": "2021-07-29T09:17:52.937890",
     "exception": false,
     "start_time": "2021-07-29T09:17:52.802757",
     "status": "completed"
    },
    "tags": []
   },
   "outputs": [
    {
     "data": {
      "text/html": [
       "<div>\n",
       "<style scoped>\n",
       "    .dataframe tbody tr th:only-of-type {\n",
       "        vertical-align: middle;\n",
       "    }\n",
       "\n",
       "    .dataframe tbody tr th {\n",
       "        vertical-align: top;\n",
       "    }\n",
       "\n",
       "    .dataframe thead th {\n",
       "        text-align: right;\n",
       "    }\n",
       "</style>\n",
       "<table border=\"1\" class=\"dataframe\">\n",
       "  <thead>\n",
       "    <tr style=\"text-align: right;\">\n",
       "      <th></th>\n",
       "      <th>Survived</th>\n",
       "      <th>Pclass</th>\n",
       "      <th>Sex</th>\n",
       "      <th>Age</th>\n",
       "      <th>Fare</th>\n",
       "      <th>Cabin</th>\n",
       "      <th>Embarked</th>\n",
       "      <th>Title</th>\n",
       "      <th>FamilySize</th>\n",
       "    </tr>\n",
       "  </thead>\n",
       "  <tbody>\n",
       "    <tr>\n",
       "      <th>0</th>\n",
       "      <td>0</td>\n",
       "      <td>3</td>\n",
       "      <td>0</td>\n",
       "      <td>22.0</td>\n",
       "      <td>0.0</td>\n",
       "      <td>2.0</td>\n",
       "      <td>0</td>\n",
       "      <td>0</td>\n",
       "      <td>0.4</td>\n",
       "    </tr>\n",
       "    <tr>\n",
       "      <th>1</th>\n",
       "      <td>1</td>\n",
       "      <td>1</td>\n",
       "      <td>1</td>\n",
       "      <td>38.0</td>\n",
       "      <td>2.0</td>\n",
       "      <td>0.8</td>\n",
       "      <td>1</td>\n",
       "      <td>2</td>\n",
       "      <td>0.4</td>\n",
       "    </tr>\n",
       "    <tr>\n",
       "      <th>2</th>\n",
       "      <td>1</td>\n",
       "      <td>3</td>\n",
       "      <td>1</td>\n",
       "      <td>26.0</td>\n",
       "      <td>0.0</td>\n",
       "      <td>2.0</td>\n",
       "      <td>0</td>\n",
       "      <td>1</td>\n",
       "      <td>0.0</td>\n",
       "    </tr>\n",
       "    <tr>\n",
       "      <th>3</th>\n",
       "      <td>1</td>\n",
       "      <td>1</td>\n",
       "      <td>1</td>\n",
       "      <td>35.0</td>\n",
       "      <td>2.0</td>\n",
       "      <td>0.8</td>\n",
       "      <td>0</td>\n",
       "      <td>2</td>\n",
       "      <td>0.4</td>\n",
       "    </tr>\n",
       "    <tr>\n",
       "      <th>4</th>\n",
       "      <td>0</td>\n",
       "      <td>3</td>\n",
       "      <td>0</td>\n",
       "      <td>35.0</td>\n",
       "      <td>0.0</td>\n",
       "      <td>2.0</td>\n",
       "      <td>0</td>\n",
       "      <td>0</td>\n",
       "      <td>0.0</td>\n",
       "    </tr>\n",
       "  </tbody>\n",
       "</table>\n",
       "</div>"
      ],
      "text/plain": [
       "   Survived  Pclass  Sex   Age  Fare  Cabin  Embarked  Title  FamilySize\n",
       "0         0       3    0  22.0   0.0    2.0         0      0         0.4\n",
       "1         1       1    1  38.0   2.0    0.8         1      2         0.4\n",
       "2         1       3    1  26.0   0.0    2.0         0      1         0.0\n",
       "3         1       1    1  35.0   2.0    0.8         0      2         0.4\n",
       "4         0       3    0  35.0   0.0    2.0         0      0         0.0"
      ]
     },
     "execution_count": 70,
     "metadata": {},
     "output_type": "execute_result"
    }
   ],
   "source": [
    "train.head()"
   ]
  },
  {
   "cell_type": "code",
   "execution_count": 71,
   "id": "206cee81",
   "metadata": {
    "execution": {
     "iopub.execute_input": "2021-07-29T09:17:53.189206Z",
     "iopub.status.busy": "2021-07-29T09:17:53.188238Z",
     "iopub.status.idle": "2021-07-29T09:17:53.193073Z",
     "shell.execute_reply": "2021-07-29T09:17:53.192500Z",
     "shell.execute_reply.started": "2021-07-29T09:15:53.839343Z"
    },
    "papermill": {
     "duration": 0.137695,
     "end_time": "2021-07-29T09:17:53.193215",
     "exception": false,
     "start_time": "2021-07-29T09:17:53.055520",
     "status": "completed"
    },
    "tags": []
   },
   "outputs": [
    {
     "data": {
      "text/html": [
       "<div>\n",
       "<style scoped>\n",
       "    .dataframe tbody tr th:only-of-type {\n",
       "        vertical-align: middle;\n",
       "    }\n",
       "\n",
       "    .dataframe tbody tr th {\n",
       "        vertical-align: top;\n",
       "    }\n",
       "\n",
       "    .dataframe thead th {\n",
       "        text-align: right;\n",
       "    }\n",
       "</style>\n",
       "<table border=\"1\" class=\"dataframe\">\n",
       "  <thead>\n",
       "    <tr style=\"text-align: right;\">\n",
       "      <th></th>\n",
       "      <th>Pclass</th>\n",
       "      <th>Sex</th>\n",
       "      <th>Age</th>\n",
       "      <th>Fare</th>\n",
       "      <th>Cabin</th>\n",
       "      <th>Embarked</th>\n",
       "      <th>Title</th>\n",
       "      <th>FamilySize</th>\n",
       "    </tr>\n",
       "  </thead>\n",
       "  <tbody>\n",
       "    <tr>\n",
       "      <th>0</th>\n",
       "      <td>3</td>\n",
       "      <td>0</td>\n",
       "      <td>22.0</td>\n",
       "      <td>0.0</td>\n",
       "      <td>2.0</td>\n",
       "      <td>0</td>\n",
       "      <td>0</td>\n",
       "      <td>0.4</td>\n",
       "    </tr>\n",
       "    <tr>\n",
       "      <th>1</th>\n",
       "      <td>1</td>\n",
       "      <td>1</td>\n",
       "      <td>38.0</td>\n",
       "      <td>2.0</td>\n",
       "      <td>0.8</td>\n",
       "      <td>1</td>\n",
       "      <td>2</td>\n",
       "      <td>0.4</td>\n",
       "    </tr>\n",
       "    <tr>\n",
       "      <th>2</th>\n",
       "      <td>3</td>\n",
       "      <td>1</td>\n",
       "      <td>26.0</td>\n",
       "      <td>0.0</td>\n",
       "      <td>2.0</td>\n",
       "      <td>0</td>\n",
       "      <td>1</td>\n",
       "      <td>0.0</td>\n",
       "    </tr>\n",
       "    <tr>\n",
       "      <th>3</th>\n",
       "      <td>1</td>\n",
       "      <td>1</td>\n",
       "      <td>35.0</td>\n",
       "      <td>2.0</td>\n",
       "      <td>0.8</td>\n",
       "      <td>0</td>\n",
       "      <td>2</td>\n",
       "      <td>0.4</td>\n",
       "    </tr>\n",
       "    <tr>\n",
       "      <th>4</th>\n",
       "      <td>3</td>\n",
       "      <td>0</td>\n",
       "      <td>35.0</td>\n",
       "      <td>0.0</td>\n",
       "      <td>2.0</td>\n",
       "      <td>0</td>\n",
       "      <td>0</td>\n",
       "      <td>0.0</td>\n",
       "    </tr>\n",
       "  </tbody>\n",
       "</table>\n",
       "</div>"
      ],
      "text/plain": [
       "   Pclass  Sex   Age  Fare  Cabin  Embarked  Title  FamilySize\n",
       "0       3    0  22.0   0.0    2.0         0      0         0.4\n",
       "1       1    1  38.0   2.0    0.8         1      2         0.4\n",
       "2       3    1  26.0   0.0    2.0         0      1         0.0\n",
       "3       1    1  35.0   2.0    0.8         0      2         0.4\n",
       "4       3    0  35.0   0.0    2.0         0      0         0.0"
      ]
     },
     "execution_count": 71,
     "metadata": {},
     "output_type": "execute_result"
    }
   ],
   "source": [
    "train_data.head()"
   ]
  },
  {
   "cell_type": "code",
   "execution_count": 72,
   "id": "4a081d94",
   "metadata": {
    "execution": {
     "iopub.execute_input": "2021-07-29T09:17:53.443099Z",
     "iopub.status.busy": "2021-07-29T09:17:53.442099Z",
     "iopub.status.idle": "2021-07-29T09:17:53.447012Z",
     "shell.execute_reply": "2021-07-29T09:17:53.446466Z",
     "shell.execute_reply.started": "2021-07-29T09:15:53.869616Z"
    },
    "papermill": {
     "duration": 0.136346,
     "end_time": "2021-07-29T09:17:53.447151",
     "exception": false,
     "start_time": "2021-07-29T09:17:53.310805",
     "status": "completed"
    },
    "tags": []
   },
   "outputs": [
    {
     "data": {
      "text/html": [
       "<div>\n",
       "<style scoped>\n",
       "    .dataframe tbody tr th:only-of-type {\n",
       "        vertical-align: middle;\n",
       "    }\n",
       "\n",
       "    .dataframe tbody tr th {\n",
       "        vertical-align: top;\n",
       "    }\n",
       "\n",
       "    .dataframe thead th {\n",
       "        text-align: right;\n",
       "    }\n",
       "</style>\n",
       "<table border=\"1\" class=\"dataframe\">\n",
       "  <thead>\n",
       "    <tr style=\"text-align: right;\">\n",
       "      <th></th>\n",
       "      <th>PassengerId</th>\n",
       "      <th>Pclass</th>\n",
       "      <th>Sex</th>\n",
       "      <th>Age</th>\n",
       "      <th>Fare</th>\n",
       "      <th>Cabin</th>\n",
       "      <th>Embarked</th>\n",
       "      <th>Title</th>\n",
       "      <th>FamilySize</th>\n",
       "    </tr>\n",
       "  </thead>\n",
       "  <tbody>\n",
       "    <tr>\n",
       "      <th>0</th>\n",
       "      <td>892</td>\n",
       "      <td>3</td>\n",
       "      <td>0</td>\n",
       "      <td>34.5</td>\n",
       "      <td>0.0</td>\n",
       "      <td>2.0</td>\n",
       "      <td>2</td>\n",
       "      <td>0</td>\n",
       "      <td>0.0</td>\n",
       "    </tr>\n",
       "    <tr>\n",
       "      <th>1</th>\n",
       "      <td>893</td>\n",
       "      <td>3</td>\n",
       "      <td>1</td>\n",
       "      <td>47.0</td>\n",
       "      <td>0.0</td>\n",
       "      <td>2.0</td>\n",
       "      <td>0</td>\n",
       "      <td>2</td>\n",
       "      <td>0.4</td>\n",
       "    </tr>\n",
       "    <tr>\n",
       "      <th>2</th>\n",
       "      <td>894</td>\n",
       "      <td>2</td>\n",
       "      <td>0</td>\n",
       "      <td>62.0</td>\n",
       "      <td>0.0</td>\n",
       "      <td>2.0</td>\n",
       "      <td>2</td>\n",
       "      <td>0</td>\n",
       "      <td>0.0</td>\n",
       "    </tr>\n",
       "    <tr>\n",
       "      <th>3</th>\n",
       "      <td>895</td>\n",
       "      <td>3</td>\n",
       "      <td>0</td>\n",
       "      <td>27.0</td>\n",
       "      <td>0.0</td>\n",
       "      <td>2.0</td>\n",
       "      <td>0</td>\n",
       "      <td>0</td>\n",
       "      <td>0.0</td>\n",
       "    </tr>\n",
       "    <tr>\n",
       "      <th>4</th>\n",
       "      <td>896</td>\n",
       "      <td>3</td>\n",
       "      <td>1</td>\n",
       "      <td>22.0</td>\n",
       "      <td>0.0</td>\n",
       "      <td>2.0</td>\n",
       "      <td>0</td>\n",
       "      <td>2</td>\n",
       "      <td>0.8</td>\n",
       "    </tr>\n",
       "  </tbody>\n",
       "</table>\n",
       "</div>"
      ],
      "text/plain": [
       "   PassengerId  Pclass  Sex   Age  Fare  Cabin  Embarked  Title  FamilySize\n",
       "0          892       3    0  34.5   0.0    2.0         2      0         0.0\n",
       "1          893       3    1  47.0   0.0    2.0         0      2         0.4\n",
       "2          894       2    0  62.0   0.0    2.0         2      0         0.0\n",
       "3          895       3    0  27.0   0.0    2.0         0      0         0.0\n",
       "4          896       3    1  22.0   0.0    2.0         0      2         0.8"
      ]
     },
     "execution_count": 72,
     "metadata": {},
     "output_type": "execute_result"
    }
   ],
   "source": [
    "test.head()"
   ]
  },
  {
   "cell_type": "markdown",
   "id": "4ae94935",
   "metadata": {
    "papermill": {
     "duration": 0.11594,
     "end_time": "2021-07-29T09:17:53.680584",
     "exception": false,
     "start_time": "2021-07-29T09:17:53.564644",
     "status": "completed"
    },
    "tags": []
   },
   "source": [
    "## Modelling"
   ]
  },
  {
   "cell_type": "code",
   "execution_count": 73,
   "id": "a16ba81d",
   "metadata": {
    "execution": {
     "iopub.execute_input": "2021-07-29T09:17:53.944331Z",
     "iopub.status.busy": "2021-07-29T09:17:53.943653Z",
     "iopub.status.idle": "2021-07-29T09:17:53.958681Z",
     "shell.execute_reply": "2021-07-29T09:17:53.958108Z",
     "shell.execute_reply.started": "2021-07-29T09:15:53.891027Z"
    },
    "papermill": {
     "duration": 0.136398,
     "end_time": "2021-07-29T09:17:53.958848",
     "exception": false,
     "start_time": "2021-07-29T09:17:53.822450",
     "status": "completed"
    },
    "tags": []
   },
   "outputs": [
    {
     "name": "stdout",
     "output_type": "stream",
     "text": [
      "<class 'pandas.core.frame.DataFrame'>\n",
      "RangeIndex: 891 entries, 0 to 890\n",
      "Data columns (total 9 columns):\n",
      " #   Column      Non-Null Count  Dtype  \n",
      "---  ------      --------------  -----  \n",
      " 0   Survived    891 non-null    int64  \n",
      " 1   Pclass      891 non-null    int64  \n",
      " 2   Sex         891 non-null    int64  \n",
      " 3   Age         891 non-null    float64\n",
      " 4   Fare        891 non-null    float64\n",
      " 5   Cabin       891 non-null    float64\n",
      " 6   Embarked    891 non-null    int64  \n",
      " 7   Title       891 non-null    int64  \n",
      " 8   FamilySize  891 non-null    float64\n",
      "dtypes: float64(4), int64(5)\n",
      "memory usage: 62.8 KB\n"
     ]
    }
   ],
   "source": [
    "train.info()"
   ]
  },
  {
   "cell_type": "code",
   "execution_count": 74,
   "id": "6526bf7f",
   "metadata": {
    "execution": {
     "iopub.execute_input": "2021-07-29T09:17:54.200330Z",
     "iopub.status.busy": "2021-07-29T09:17:54.199510Z",
     "iopub.status.idle": "2021-07-29T09:17:54.203677Z",
     "shell.execute_reply": "2021-07-29T09:17:54.204198Z",
     "shell.execute_reply.started": "2021-07-29T09:15:53.913783Z"
    },
    "papermill": {
     "duration": 0.12562,
     "end_time": "2021-07-29T09:17:54.204368",
     "exception": false,
     "start_time": "2021-07-29T09:17:54.078748",
     "status": "completed"
    },
    "tags": []
   },
   "outputs": [],
   "source": [
    "from sklearn.model_selection import KFold\n",
    "from sklearn.model_selection import cross_val_score\n",
    "k_fold = KFold(n_splits=10, shuffle=True, random_state=0)"
   ]
  },
  {
   "cell_type": "code",
   "execution_count": 75,
   "id": "63be1a2b",
   "metadata": {
    "execution": {
     "iopub.execute_input": "2021-07-29T09:17:54.450869Z",
     "iopub.status.busy": "2021-07-29T09:17:54.450005Z",
     "iopub.status.idle": "2021-07-29T09:17:54.562650Z",
     "shell.execute_reply": "2021-07-29T09:17:54.562113Z",
     "shell.execute_reply.started": "2021-07-29T09:15:53.921543Z"
    },
    "papermill": {
     "duration": 0.240249,
     "end_time": "2021-07-29T09:17:54.562807",
     "exception": false,
     "start_time": "2021-07-29T09:17:54.322558",
     "status": "completed"
    },
    "tags": []
   },
   "outputs": [
    {
     "name": "stdout",
     "output_type": "stream",
     "text": [
      "[0.75555556 0.82022472 0.7752809  0.66292135 0.79775281 0.78651685\n",
      " 0.7752809  0.82022472 0.78651685 0.76404494]\n"
     ]
    }
   ],
   "source": [
    "clf = KNeighborsClassifier(n_neighbors = 13)\n",
    "scoring = 'accuracy'\n",
    "score = cross_val_score(clf, train_data, target, cv=k_fold, n_jobs=1, scoring=scoring)\n",
    "print(score)"
   ]
  },
  {
   "cell_type": "code",
   "execution_count": 76,
   "id": "455afae0",
   "metadata": {
    "execution": {
     "iopub.execute_input": "2021-07-29T09:17:54.808117Z",
     "iopub.status.busy": "2021-07-29T09:17:54.807328Z",
     "iopub.status.idle": "2021-07-29T09:17:54.810093Z",
     "shell.execute_reply": "2021-07-29T09:17:54.810606Z",
     "shell.execute_reply.started": "2021-07-29T09:15:54.072402Z"
    },
    "papermill": {
     "duration": 0.128031,
     "end_time": "2021-07-29T09:17:54.810803",
     "exception": false,
     "start_time": "2021-07-29T09:17:54.682772",
     "status": "completed"
    },
    "tags": []
   },
   "outputs": [
    {
     "data": {
      "text/plain": [
       "77.44"
      ]
     },
     "execution_count": 76,
     "metadata": {},
     "output_type": "execute_result"
    }
   ],
   "source": [
    "round(np.mean(score)*100, 2)"
   ]
  },
  {
   "cell_type": "code",
   "execution_count": 77,
   "id": "fd917779",
   "metadata": {
    "execution": {
     "iopub.execute_input": "2021-07-29T09:17:55.053928Z",
     "iopub.status.busy": "2021-07-29T09:17:55.053042Z",
     "iopub.status.idle": "2021-07-29T09:17:55.128706Z",
     "shell.execute_reply": "2021-07-29T09:17:55.129692Z",
     "shell.execute_reply.started": "2021-07-29T09:15:54.081875Z"
    },
    "papermill": {
     "duration": 0.199286,
     "end_time": "2021-07-29T09:17:55.130074",
     "exception": false,
     "start_time": "2021-07-29T09:17:54.930788",
     "status": "completed"
    },
    "tags": []
   },
   "outputs": [
    {
     "name": "stdout",
     "output_type": "stream",
     "text": [
      "[0.73333333 0.84269663 0.74157303 0.82022472 0.80898876 0.80898876\n",
      " 0.7752809  0.79775281 0.79775281 0.76404494]\n"
     ]
    }
   ],
   "source": [
    "pred = DecisionTreeClassifier()\n",
    "scoring = 'accuracy'\n",
    "score1 = cross_val_score(pred, train_data, target, cv=k_fold, n_jobs=1, scoring=scoring)\n",
    "print(score1)"
   ]
  },
  {
   "cell_type": "code",
   "execution_count": 78,
   "id": "99c9a778",
   "metadata": {
    "execution": {
     "iopub.execute_input": "2021-07-29T09:17:55.371384Z",
     "iopub.status.busy": "2021-07-29T09:17:55.370733Z",
     "iopub.status.idle": "2021-07-29T09:17:55.378765Z",
     "shell.execute_reply": "2021-07-29T09:17:55.378054Z",
     "shell.execute_reply.started": "2021-07-29T09:15:54.179992Z"
    },
    "papermill": {
     "duration": 0.130006,
     "end_time": "2021-07-29T09:17:55.378915",
     "exception": false,
     "start_time": "2021-07-29T09:17:55.248909",
     "status": "completed"
    },
    "tags": []
   },
   "outputs": [
    {
     "data": {
      "text/plain": [
       "78.91"
      ]
     },
     "execution_count": 78,
     "metadata": {},
     "output_type": "execute_result"
    }
   ],
   "source": [
    "round(np.mean(score1)*100, 2)"
   ]
  },
  {
   "cell_type": "code",
   "execution_count": 79,
   "id": "81e0ead2",
   "metadata": {
    "execution": {
     "iopub.execute_input": "2021-07-29T09:17:55.621704Z",
     "iopub.status.busy": "2021-07-29T09:17:55.621025Z",
     "iopub.status.idle": "2021-07-29T09:17:56.001919Z",
     "shell.execute_reply": "2021-07-29T09:17:56.002466Z",
     "shell.execute_reply.started": "2021-07-29T09:15:54.191526Z"
    },
    "papermill": {
     "duration": 0.503689,
     "end_time": "2021-07-29T09:17:56.002661",
     "exception": false,
     "start_time": "2021-07-29T09:17:55.498972",
     "status": "completed"
    },
    "tags": []
   },
   "outputs": [
    {
     "name": "stdout",
     "output_type": "stream",
     "text": [
      "[0.81111111 0.85393258 0.7752809  0.80898876 0.83146067 0.84269663\n",
      " 0.78651685 0.80898876 0.76404494 0.78651685]\n"
     ]
    }
   ],
   "source": [
    "clf = RandomForestClassifier(n_estimators = 13)\n",
    "scoring = 'accuracy'\n",
    "score2 = cross_val_score(clf, train_data, target, cv=k_fold, n_jobs=1, scoring=scoring)\n",
    "print(score2)"
   ]
  },
  {
   "cell_type": "code",
   "execution_count": 80,
   "id": "01a082f9",
   "metadata": {
    "execution": {
     "iopub.execute_input": "2021-07-29T09:17:56.247772Z",
     "iopub.status.busy": "2021-07-29T09:17:56.247090Z",
     "iopub.status.idle": "2021-07-29T09:17:56.252633Z",
     "shell.execute_reply": "2021-07-29T09:17:56.253147Z",
     "shell.execute_reply.started": "2021-07-29T09:15:54.752731Z"
    },
    "papermill": {
     "duration": 0.128563,
     "end_time": "2021-07-29T09:17:56.253319",
     "exception": false,
     "start_time": "2021-07-29T09:17:56.124756",
     "status": "completed"
    },
    "tags": []
   },
   "outputs": [
    {
     "data": {
      "text/plain": [
       "80.7"
      ]
     },
     "execution_count": 80,
     "metadata": {},
     "output_type": "execute_result"
    }
   ],
   "source": [
    "round(np.mean(score2)*100, 2)"
   ]
  },
  {
   "cell_type": "markdown",
   "id": "8b7daf23",
   "metadata": {
    "papermill": {
     "duration": 0.119273,
     "end_time": "2021-07-29T09:17:56.495902",
     "exception": false,
     "start_time": "2021-07-29T09:17:56.376629",
     "status": "completed"
    },
    "tags": []
   },
   "source": [
    "### Test"
   ]
  },
  {
   "cell_type": "code",
   "execution_count": 81,
   "id": "3979c8b9",
   "metadata": {
    "execution": {
     "iopub.execute_input": "2021-07-29T09:17:56.748239Z",
     "iopub.status.busy": "2021-07-29T09:17:56.742903Z",
     "iopub.status.idle": "2021-07-29T09:17:56.784024Z",
     "shell.execute_reply": "2021-07-29T09:17:56.783306Z",
     "shell.execute_reply.started": "2021-07-29T09:15:54.768255Z"
    },
    "papermill": {
     "duration": 0.16846,
     "end_time": "2021-07-29T09:17:56.784183",
     "exception": false,
     "start_time": "2021-07-29T09:17:56.615723",
     "status": "completed"
    },
    "tags": []
   },
   "outputs": [],
   "source": [
    "clf = RandomForestClassifier(n_estimators = 13)\n",
    "clf.fit(train_data, target)\n",
    "\n",
    "test_data = test.drop('PassengerId', axis=1).copy()\n",
    "prediction = clf.predict(test_data)"
   ]
  },
  {
   "cell_type": "code",
   "execution_count": 82,
   "id": "81500851",
   "metadata": {
    "execution": {
     "iopub.execute_input": "2021-07-29T09:17:57.033256Z",
     "iopub.status.busy": "2021-07-29T09:17:57.032544Z",
     "iopub.status.idle": "2021-07-29T09:17:57.040555Z",
     "shell.execute_reply": "2021-07-29T09:17:57.039857Z",
     "shell.execute_reply.started": "2021-07-29T09:15:54.821925Z"
    },
    "papermill": {
     "duration": 0.135955,
     "end_time": "2021-07-29T09:17:57.040705",
     "exception": false,
     "start_time": "2021-07-29T09:17:56.904750",
     "status": "completed"
    },
    "tags": []
   },
   "outputs": [],
   "source": [
    "submission = pd.DataFrame({'PassengerId': test['PassengerId'],\n",
    "                          'Survived': prediction})\n",
    "\n",
    "submission.to_csv('Submission.csv', index=False)"
   ]
  },
  {
   "cell_type": "code",
   "execution_count": 83,
   "id": "51ab9182",
   "metadata": {
    "execution": {
     "iopub.execute_input": "2021-07-29T09:17:57.289835Z",
     "iopub.status.busy": "2021-07-29T09:17:57.289160Z",
     "iopub.status.idle": "2021-07-29T09:17:57.299763Z",
     "shell.execute_reply": "2021-07-29T09:17:57.299117Z",
     "shell.execute_reply.started": "2021-07-29T09:15:54.833592Z"
    },
    "papermill": {
     "duration": 0.136166,
     "end_time": "2021-07-29T09:17:57.299903",
     "exception": false,
     "start_time": "2021-07-29T09:17:57.163737",
     "status": "completed"
    },
    "tags": []
   },
   "outputs": [
    {
     "data": {
      "text/html": [
       "<div>\n",
       "<style scoped>\n",
       "    .dataframe tbody tr th:only-of-type {\n",
       "        vertical-align: middle;\n",
       "    }\n",
       "\n",
       "    .dataframe tbody tr th {\n",
       "        vertical-align: top;\n",
       "    }\n",
       "\n",
       "    .dataframe thead th {\n",
       "        text-align: right;\n",
       "    }\n",
       "</style>\n",
       "<table border=\"1\" class=\"dataframe\">\n",
       "  <thead>\n",
       "    <tr style=\"text-align: right;\">\n",
       "      <th></th>\n",
       "      <th>PassengerId</th>\n",
       "      <th>Survived</th>\n",
       "    </tr>\n",
       "  </thead>\n",
       "  <tbody>\n",
       "    <tr>\n",
       "      <th>0</th>\n",
       "      <td>892</td>\n",
       "      <td>0</td>\n",
       "    </tr>\n",
       "    <tr>\n",
       "      <th>1</th>\n",
       "      <td>893</td>\n",
       "      <td>0</td>\n",
       "    </tr>\n",
       "    <tr>\n",
       "      <th>2</th>\n",
       "      <td>894</td>\n",
       "      <td>0</td>\n",
       "    </tr>\n",
       "    <tr>\n",
       "      <th>3</th>\n",
       "      <td>895</td>\n",
       "      <td>1</td>\n",
       "    </tr>\n",
       "    <tr>\n",
       "      <th>4</th>\n",
       "      <td>896</td>\n",
       "      <td>1</td>\n",
       "    </tr>\n",
       "  </tbody>\n",
       "</table>\n",
       "</div>"
      ],
      "text/plain": [
       "   PassengerId  Survived\n",
       "0          892         0\n",
       "1          893         0\n",
       "2          894         0\n",
       "3          895         1\n",
       "4          896         1"
      ]
     },
     "execution_count": 83,
     "metadata": {},
     "output_type": "execute_result"
    }
   ],
   "source": [
    "submission = pd.read_csv('Submission.csv')\n",
    "submission.head()"
   ]
  }
 ],
 "metadata": {
  "kernelspec": {
   "display_name": "Python 3",
   "language": "python",
   "name": "python3"
  },
  "language_info": {
   "codemirror_mode": {
    "name": "ipython",
    "version": 3
   },
   "file_extension": ".py",
   "mimetype": "text/x-python",
   "name": "python",
   "nbconvert_exporter": "python",
   "pygments_lexer": "ipython3",
   "version": "3.7.10"
  },
  "papermill": {
   "default_parameters": {},
   "duration": 45.989615,
   "end_time": "2021-07-29T09:17:58.232031",
   "environment_variables": {},
   "exception": null,
   "input_path": "__notebook__.ipynb",
   "output_path": "__notebook__.ipynb",
   "parameters": {},
   "start_time": "2021-07-29T09:17:12.242416",
   "version": "2.3.3"
  }
 },
 "nbformat": 4,
 "nbformat_minor": 5
}
